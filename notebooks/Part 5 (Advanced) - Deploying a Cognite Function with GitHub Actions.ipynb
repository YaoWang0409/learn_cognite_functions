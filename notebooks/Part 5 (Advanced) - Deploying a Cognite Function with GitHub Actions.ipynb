{
 "cells": [
  {
   "cell_type": "markdown",
   "metadata": {
    "id": "u9tprOC8AHq2"
   },
   "source": [
    "## Authentication and Client Creation for CDF"
   ]
  },
  {
   "cell_type": "markdown",
   "metadata": {
    "id": "sAko0tLJlmzz"
   },
   "source": [
    "Here we'll create the cognite client using Client credentials. We need to supply the tenant_id, client_id and client secret along with cluster name and project name to create the cognite client. Once this client is created, this will be the main way to communicate with the Cognite Data Fusion."
   ]
  },
  {
   "cell_type": "markdown",
   "metadata": {},
   "source": [
    "Import and create a client to communicate with the cognite data platform (CDF)"
   ]
  },
  {
   "cell_type": "code",
   "execution_count": 1,
   "metadata": {},
   "outputs": [],
   "source": [
    "#from cognite.client import CogniteClient\n",
    "from cognite.experimental import CogniteClient"
   ]
  },
  {
   "cell_type": "code",
   "execution_count": 2,
   "metadata": {
    "colab": {
     "base_uri": "https://localhost:8080/"
    },
    "id": "kucbrHxMANVE",
    "outputId": "0e6b1e73-def3-4916-ef30-da090674fb71"
   },
   "outputs": [],
   "source": [
    "import os\n",
    "from getpass import getpass\n",
    "from pathlib import Path\n",
    "from dotenv import load_dotenv\n",
    "# Contact Project Administrator to get these\n",
    "TENANT_ID=\"48d5043c-cf70-4c49-881c-c638f5796997\"\n",
    "CLIENT_ID=\"fab52bb5-9de2-4f9e-aefa-712da4b5fe00\"\n",
    "CDF_CLUSTER=\"westeurope-1\"\n",
    "COGNITE_PROJECT=\"ds-basics\"\n",
    "\n",
    "SCOPES = [f\"https://{CDF_CLUSTER}.cognitedata.com/.default\"]\n",
    "\n",
    "# Obtain the Environment Variables from .env file\n",
    "dotenv_path = Path(\"../.env\")\n",
    "load_dotenv(dotenv_path=dotenv_path)\n",
    "CLIENT_SECRET = os.getenv(\"CLIENT_SECRET\") \n",
    "#CLIENT_SECRET = getpass(\"Enter the Client Secret: \") # To pass secret interactively\n",
    "\n",
    "TOKEN_URL = f\"https://login.microsoftonline.com/{TENANT_ID}/oauth2/v2.0/token\"\n",
    "\n",
    "client = CogniteClient(\n",
    "    token_url=TOKEN_URL,\n",
    "    token_client_id=CLIENT_ID,\n",
    "    token_client_secret=CLIENT_SECRET,\n",
    "    token_scopes=SCOPES,\n",
    "    project=COGNITE_PROJECT,\n",
    "    base_url=f\"https://{CDF_CLUSTER}.cognitedata.com\",\n",
    "    client_name=\"cdf_client\",\n",
    "    debug=False,\n",
    ")"
   ]
  },
  {
   "cell_type": "markdown",
   "metadata": {
    "id": "ZNm1c42dzSe2"
   },
   "source": [
    "This is just one of the ways to create the client, there are many other ways e.g. Interactive login, Device code etc"
   ]
  },
  {
   "cell_type": "markdown",
   "metadata": {
    "id": "6yWH-qkrgarA"
   },
   "source": [
    "Guide for authentication and creating the client is available here https://github.com/cognitedata/python-oidc-authentication"
   ]
  },
  {
   "cell_type": "markdown",
   "metadata": {
    "id": "mRRYpwxxFWD9"
   },
   "source": [
    "## Method 3: Using Deploy functions Template"
   ]
  },
  {
   "cell_type": "markdown",
   "metadata": {},
   "source": [
    "When you've tested you functions locally and want to deploy multiple functions related to a project, using version control (CI/CD). There's a public template which can be used to deploy the functions."
   ]
  },
  {
   "cell_type": "markdown",
   "metadata": {
    "id": "Eqwp4VTaSeNh"
   },
   "source": [
    "- Follow the instructions given in the template documentation. https://github.com/cognitedata/deploy-functions-oidc#how-to-use-it"
   ]
  },
  {
   "cell_type": "markdown",
   "metadata": {
    "id": "SQoL5v-tYhyS"
   },
   "source": [
    "- Create a separate folder for each function and place the code files e.g. handler.py and requirements.txt files inside it."
   ]
  },
  {
   "cell_type": "markdown",
   "metadata": {
    "id": "Wv_MxeWALlCr"
   },
   "source": [
    "## Visualization in the PowerBI/Grafana\n",
    "Once calculation results are stored in the CDF, they can be fed to downstream visualization applications such as PowerBI or Grafana.\n",
    "An example grafana dashboard for the Heat Exchanger case is shown here."
   ]
  },
  {
   "cell_type": "markdown",
   "metadata": {
    "id": "j_QdwEYwpI-K"
   },
   "source": [
    "URL (restricted access ) https://grafana-tech-sales.cogniteapp.com/d/EgxLOhE7x/heatex-demo?orgId=1"
   ]
  },
  {
   "cell_type": "markdown",
   "metadata": {},
   "source": [
    "<img src=\"../images/grafana-hx-monitor.jpg\">"
   ]
  }
 ],
 "metadata": {
  "colab": {
   "collapsed_sections": [],
   "name": "CogniteFunctions-UseCase.ipynb",
   "provenance": []
  },
  "kernelspec": {
   "display_name": "Python 3 (ipykernel)",
   "language": "python",
   "name": "python3"
  },
  "language_info": {
   "codemirror_mode": {
    "name": "ipython",
    "version": 3
   },
   "file_extension": ".py",
   "mimetype": "text/x-python",
   "name": "python",
   "nbconvert_exporter": "python",
   "pygments_lexer": "ipython3",
   "version": "3.10.5"
  },
  "vscode": {
   "interpreter": {
    "hash": "3c69e91887e8abf517e50ee2824544e1013cced4be16b750c5a1948ad17fb1ac"
   }
  }
 },
 "nbformat": 4,
 "nbformat_minor": 1
}
