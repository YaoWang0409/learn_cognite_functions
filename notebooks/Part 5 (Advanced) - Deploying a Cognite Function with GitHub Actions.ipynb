{
 "cells": [
  {
   "cell_type": "markdown",
   "metadata": {
    "id": "u9tprOC8AHq2"
   },
   "source": [
    "# Copyright 2022 Cognite AS\n",
    "# Deploying a Cognite Function with GitHub Actions\n",
    "\n",
    "When you've tested you functions locally and want to deploy multiple functions related to a project, using version control (CI/CD). There's a public template which can be used to deploy the functions.\n",
    "\n",
    "## Authentication\n",
    "\n",
    "Create a client to communicate with the cognite data platform (CDF)"
   ]
  },
  {
   "cell_type": "code",
   "execution_count": 1,
   "metadata": {
    "colab": {
     "base_uri": "https://localhost:8080/"
    },
    "id": "kucbrHxMANVE",
    "outputId": "0e6b1e73-def3-4916-ef30-da090674fb71"
   },
   "outputs": [
    {
     "name": "stdout",
     "output_type": "stream",
     "text": [
      "Opening in existing browser session.\n"
     ]
    },
    {
     "name": "stderr",
     "output_type": "stream",
     "text": [
      "libva error: vaGetDriverNameByIndex() failed with unknown libva error, driver_name = (null)\n"
     ]
    }
   ],
   "source": [
    "from cognite.client import CogniteClient, ClientConfig\n",
    "from cognite.client.credentials import Token\n",
    "from msal import PublicClientApplication\n",
    "\n",
    "# Contact Project Administrator to get these\n",
    "TENANT_ID=\"48d5043c-cf70-4c49-881c-c638f5796997\"\n",
    "CLIENT_ID=\"1c224c70-1df2-4f05-964a-753a6731748a\"\n",
    "CDF_CLUSTER=\"westeurope-1\"\n",
    "COGNITE_PROJECT=\"ds-cognitefunctions\"\n",
    "\n",
    "SCOPES = [f\"https://{CDF_CLUSTER}.cognitedata.com/.default\"]\n",
    "TOKEN_URL = f\"https://login.microsoftonline.com/{TENANT_ID}/oauth2/v2.0/token\"\n",
    "AUTHORITY_HOST_URI = \"https://login.microsoftonline.com\"\n",
    "AUTHORITY_URI = AUTHORITY_HOST_URI + \"/\" + TENANT_ID\n",
    "PORT = 53000\n",
    "\n",
    "def authenticate_azure():\n",
    "\n",
    "    app = PublicClientApplication(client_id=CLIENT_ID, authority=AUTHORITY_URI)\n",
    "\n",
    "    # interactive login - make sure you have http://localhost:port in Redirect URI in App Registration as type \"Mobile and desktop applications\"\n",
    "    creds = app.acquire_token_interactive(scopes=SCOPES, port=PORT)\n",
    "    return creds\n",
    "\n",
    "creds = authenticate_azure()\n",
    "\n",
    "\n",
    "cnf = ClientConfig(client_name=\"my-special-client\", project=COGNITE_PROJECT, credentials=Token(creds[\"access_token\"]), base_url=f\"https://{CDF_CLUSTER}.cognitedata.com\")\n",
    "client = CogniteClient(cnf)"
   ]
  },
  {
   "cell_type": "markdown",
   "metadata": {
    "id": "mRRYpwxxFWD9"
   },
   "source": [
    "## Using Deploy functions Template"
   ]
  },
  {
   "cell_type": "markdown",
   "metadata": {},
   "source": [
    "- Follow the instructions given in the template documentation. https://github.com/cognitedata/deploy-functions-oidc#how-to-use-it\n",
    "- Create a separate folder for each function and place the code files e.g. handler.py and requirements.txt files inside it."
   ]
  },
  {
   "cell_type": "markdown",
   "metadata": {
    "id": "Wv_MxeWALlCr"
   },
   "source": [
    "## Visualization in the PowerBI/Grafana\n",
    "Once calculation results are stored in the CDF, they can be fed to downstream visualization applications such as PowerBI or Grafana.\n",
    "An example grafana dashboard for the Heat Exchanger case is shown here."
   ]
  },
  {
   "cell_type": "markdown",
   "metadata": {
    "id": "j_QdwEYwpI-K"
   },
   "source": [
    "URL (restricted access ) https://grafana-tech-sales.cogniteapp.com/d/EgxLOhE7x/heatex-demo?orgId=1"
   ]
  },
  {
   "cell_type": "markdown",
   "metadata": {},
   "source": [
    "<img src=\"../images/grafana-hx-monitor.jpg\">"
   ]
  },
  {
   "cell_type": "code",
   "execution_count": null,
   "metadata": {},
   "outputs": [],
   "source": []
  }
 ],
 "metadata": {
  "colab": {
   "collapsed_sections": [],
   "name": "CogniteFunctions-UseCase.ipynb",
   "provenance": []
  },
  "kernelspec": {
   "display_name": "Python 3 (ipykernel)",
   "language": "python",
   "name": "python3"
  },
  "language_info": {
   "codemirror_mode": {
    "name": "ipython",
    "version": 3
   },
   "file_extension": ".py",
   "mimetype": "text/x-python",
   "name": "python",
   "nbconvert_exporter": "python",
   "pygments_lexer": "ipython3",
   "version": "3.9.13"
  },
  "vscode": {
   "interpreter": {
    "hash": "3c69e91887e8abf517e50ee2824544e1013cced4be16b750c5a1948ad17fb1ac"
   }
  }
 },
 "nbformat": 4,
 "nbformat_minor": 1
}
