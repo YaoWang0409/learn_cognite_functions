{
 "cells": [
  {
   "cell_type": "markdown",
   "metadata": {
    "id": "u9tprOC8AHq2"
   },
   "source": [
    "# Copyright 2022 Cognite AS\n",
    "# (Advanced) Forecasting the thermal resistance \n",
    "\n",
    "Along with the Physics calculations, if we need to predict the values of thermal resistance for future timesteps, based on trend or other factors, we can quickly build a model which will forecast the thermal resistance, based on recent history and it can be used to monitor the performance of the heat exchanger and using predictions, we can detect any upcoming issues or problems in the system.\n",
    "\n",
    "## Authentication\n",
    "\n",
    "Create a client to communicate with the cognite data platform (CDF)"
   ]
  },
  {
   "cell_type": "code",
   "execution_count": 1,
   "metadata": {
    "colab": {
     "base_uri": "https://localhost:8080/"
    },
    "id": "kucbrHxMANVE",
    "outputId": "0e6b1e73-def3-4916-ef30-da090674fb71"
   },
   "outputs": [
    {
     "name": "stdout",
     "output_type": "stream",
     "text": [
      "Opening in existing browser session.\n"
     ]
    },
    {
     "name": "stderr",
     "output_type": "stream",
     "text": [
      "libva error: vaGetDriverNameByIndex() failed with unknown libva error, driver_name = (null)\n"
     ]
    }
   ],
   "source": [
    "from cognite.client import CogniteClient, ClientConfig\n",
    "from cognite.client.credentials import Token\n",
    "from msal import PublicClientApplication\n",
    "\n",
    "\n",
    "# Enter your name here\n",
    "YOUR_NAME = \"Andris-Piebalgs\"\n",
    "\n",
    "# Contact Project Administrator to get these\n",
    "TENANT_ID=\"48d5043c-cf70-4c49-881c-c638f5796997\"\n",
    "CLIENT_ID=\"fab52bb5-9de2-4f9e-aefa-712da4b5fe00\"\n",
    "CDF_CLUSTER=\"westeurope-1\"\n",
    "COGNITE_PROJECT=\"ds-cognitefunctions\"\n",
    "\n",
    "SCOPES = [f\"https://{CDF_CLUSTER}.cognitedata.com/.default\"]\n",
    "TOKEN_URL = f\"https://login.microsoftonline.com/{TENANT_ID}/oauth2/v2.0/token\"\n",
    "AUTHORITY_HOST_URI = \"https://login.microsoftonline.com\"\n",
    "AUTHORITY_URI = AUTHORITY_HOST_URI + \"/\" + TENANT_ID\n",
    "PORT = 53000\n",
    "\n",
    "def authenticate_azure():\n",
    "\n",
    "    app = PublicClientApplication(client_id=CLIENT_ID, authority=AUTHORITY_URI)\n",
    "\n",
    "    # interactive login - make sure you have http://localhost:port in Redirect URI in App Registration as type \"Mobile and desktop applications\"\n",
    "    creds = app.acquire_token_interactive(scopes=SCOPES, port=PORT)\n",
    "    return creds\n",
    "\n",
    "creds = authenticate_azure()\n",
    "\n",
    "\n",
    "cnf = ClientConfig(client_name=\"my-special-client\", project=COGNITE_PROJECT, credentials=Token(creds[\"access_token\"]), base_url=f\"https://{CDF_CLUSTER}.cognitedata.com\")\n",
    "client = CogniteClient(cnf)"
   ]
  },
  {
   "cell_type": "code",
   "execution_count": null,
   "metadata": {},
   "outputs": [],
   "source": []
  },
  {
   "cell_type": "markdown",
   "metadata": {
    "id": "4bF1-_cw-7By"
   },
   "source": [
    "## Machine Learning to Forecast the thermal resistance"
   ]
  },
  {
   "cell_type": "markdown",
   "metadata": {
    "id": "CKtPNKB-_LRO"
   },
   "source": [
    "Along with the Physics calculations, if we need to predict the values of thermal resistance for future timesteps, based on trend or other factors, we can quickly build a model which will forecast the thermal resistance, based on recent history and it can be used to monitor the Performance of the Heat exchanger and using predictions, we can detect any upcoming issues or problems in the system."
   ]
  },
  {
   "cell_type": "markdown",
   "metadata": {
    "id": "I4CWDYthCIif"
   },
   "source": [
    "First install the library we'll use for forecasting"
   ]
  },
  {
   "cell_type": "code",
   "execution_count": 2,
   "metadata": {
    "colab": {
     "base_uri": "https://localhost:8080/"
    },
    "id": "nMKus-MdBhCo",
    "outputId": "9107a9b1-991f-4cbe-8683-a3ec1b6b8c30"
   },
   "outputs": [
    {
     "name": "stdout",
     "output_type": "stream",
     "text": [
      "\u001b[33mWARNING: You are using pip version 21.2.3; however, version 22.2.2 is available.\n",
      "You should consider upgrading via the '/home/keepfloyding/.env/bin/python3.9 -m pip install --upgrade pip' command.\u001b[0m\n",
      "Note: you may need to restart the kernel to use updated packages.\n"
     ]
    }
   ],
   "source": [
    "%pip install -q Prophet"
   ]
  },
  {
   "cell_type": "markdown",
   "metadata": {},
   "source": [
    "Retrieve the data required for the Heat Exchanger"
   ]
  },
  {
   "cell_type": "code",
   "execution_count": 2,
   "metadata": {},
   "outputs": [
    {
     "name": "stderr",
     "output_type": "stream",
     "text": [
      "/home/keepfloyding/.env/lib64/python3.9/site-packages/cognite/client/utils/_time.py:16: FutureWarning: Interpreting given naive datetime as UTC instead of local time (against Python default behaviour). This will change in the next major release (4.0.0). Please use (timezone) aware datetimes or convert it yourself to integer (number of milliseconds since epoch, leap seconds excluded).\n",
      "  warnings.warn(\n"
     ]
    },
    {
     "data": {
      "text/html": [
       "<div>\n",
       "<style scoped>\n",
       "    .dataframe tbody tr th:only-of-type {\n",
       "        vertical-align: middle;\n",
       "    }\n",
       "\n",
       "    .dataframe tbody tr th {\n",
       "        vertical-align: top;\n",
       "    }\n",
       "\n",
       "    .dataframe thead th {\n",
       "        text-align: right;\n",
       "    }\n",
       "</style>\n",
       "<table border=\"1\" class=\"dataframe\">\n",
       "  <thead>\n",
       "    <tr style=\"text-align: right;\">\n",
       "      <th></th>\n",
       "      <th>T_cold_IN</th>\n",
       "      <th>T_cold_OUT</th>\n",
       "      <th>T_hot_IN</th>\n",
       "      <th>T_hot_OUT</th>\n",
       "      <th>Flow_cold</th>\n",
       "      <th>Flow_hot</th>\n",
       "    </tr>\n",
       "  </thead>\n",
       "  <tbody>\n",
       "    <tr>\n",
       "      <th>2018-08-01 00:00:00</th>\n",
       "      <td>16.784609</td>\n",
       "      <td>108.846831</td>\n",
       "      <td>126.606315</td>\n",
       "      <td>35.017099</td>\n",
       "      <td>101.142261</td>\n",
       "      <td>164362.175208</td>\n",
       "    </tr>\n",
       "    <tr>\n",
       "      <th>2018-08-01 01:00:00</th>\n",
       "      <td>16.802548</td>\n",
       "      <td>109.051995</td>\n",
       "      <td>126.506479</td>\n",
       "      <td>34.962238</td>\n",
       "      <td>99.901727</td>\n",
       "      <td>163875.622135</td>\n",
       "    </tr>\n",
       "    <tr>\n",
       "      <th>2018-08-01 02:00:00</th>\n",
       "      <td>16.796142</td>\n",
       "      <td>108.922387</td>\n",
       "      <td>126.460531</td>\n",
       "      <td>35.020834</td>\n",
       "      <td>100.574942</td>\n",
       "      <td>164397.399993</td>\n",
       "    </tr>\n",
       "    <tr>\n",
       "      <th>2018-08-01 03:00:00</th>\n",
       "      <td>16.793055</td>\n",
       "      <td>109.171361</td>\n",
       "      <td>126.621469</td>\n",
       "      <td>34.990039</td>\n",
       "      <td>99.346718</td>\n",
       "      <td>163128.807848</td>\n",
       "    </tr>\n",
       "    <tr>\n",
       "      <th>2018-08-01 04:00:00</th>\n",
       "      <td>16.800542</td>\n",
       "      <td>109.132157</td>\n",
       "      <td>126.479283</td>\n",
       "      <td>34.996638</td>\n",
       "      <td>99.440407</td>\n",
       "      <td>163634.013288</td>\n",
       "    </tr>\n",
       "  </tbody>\n",
       "</table>\n",
       "</div>"
      ],
      "text/plain": [
       "                     T_cold_IN  T_cold_OUT    T_hot_IN  T_hot_OUT   Flow_cold  \\\n",
       "2018-08-01 00:00:00  16.784609  108.846831  126.606315  35.017099  101.142261   \n",
       "2018-08-01 01:00:00  16.802548  109.051995  126.506479  34.962238   99.901727   \n",
       "2018-08-01 02:00:00  16.796142  108.922387  126.460531  35.020834  100.574942   \n",
       "2018-08-01 03:00:00  16.793055  109.171361  126.621469  34.990039   99.346718   \n",
       "2018-08-01 04:00:00  16.800542  109.132157  126.479283  34.996638   99.440407   \n",
       "\n",
       "                          Flow_hot  \n",
       "2018-08-01 00:00:00  164362.175208  \n",
       "2018-08-01 01:00:00  163875.622135  \n",
       "2018-08-01 02:00:00  164397.399993  \n",
       "2018-08-01 03:00:00  163128.807848  \n",
       "2018-08-01 04:00:00  163634.013288  "
      ]
     },
     "execution_count": 2,
     "metadata": {},
     "output_type": "execute_result"
    }
   ],
   "source": [
    "column_names = [\"T_cold_IN\",\"T_cold_OUT\",\"T_hot_IN\",\"T_hot_OUT\",\"Flow_cold\",\"Flow_hot\"]\n",
    "ts_exids = ['pi:163657','pi:163658','pi:160887','pi:191092','pi:163374','pi:160184']\n",
    "\n",
    "import datetime\n",
    "from datetime import timedelta\n",
    "start_date = datetime.datetime(2018, 8, 1)\n",
    "end_date = start_date + timedelta(days=30)\n",
    "\n",
    "df = client.datapoints.retrieve_dataframe(external_id=ts_exids,\n",
    "                                                     aggregates=['average'],\n",
    "                                                     granularity='1h',\n",
    "                                                     start=start_date,\n",
    "                                                     end=end_date,\n",
    "                                                     include_aggregate_name=False\n",
    "                                                     )\n",
    "df.fillna(method=\"ffill\", inplace=True)\n",
    "df.columns = column_names\n",
    "df.head()"
   ]
  },
  {
   "cell_type": "code",
   "execution_count": 3,
   "metadata": {},
   "outputs": [],
   "source": [
    "from tools import thermal_resistance\n",
    "\n",
    "# Calculate the thermal resistance\n",
    "df['TR'] = df.apply(lambda x:thermal_resistance(x),axis=1)"
   ]
  },
  {
   "cell_type": "markdown",
   "metadata": {
    "id": "FFoLK__HCM5X"
   },
   "source": [
    "Now, let's format the data suitable for Prophet functions"
   ]
  },
  {
   "cell_type": "code",
   "execution_count": 4,
   "metadata": {
    "colab": {
     "base_uri": "https://localhost:8080/",
     "height": 206
    },
    "id": "JnPwMhIgCBNV",
    "outputId": "89598edf-6d65-4b4d-8acd-35733961fdda"
   },
   "outputs": [
    {
     "data": {
      "text/html": [
       "<div>\n",
       "<style scoped>\n",
       "    .dataframe tbody tr th:only-of-type {\n",
       "        vertical-align: middle;\n",
       "    }\n",
       "\n",
       "    .dataframe tbody tr th {\n",
       "        vertical-align: top;\n",
       "    }\n",
       "\n",
       "    .dataframe thead th {\n",
       "        text-align: right;\n",
       "    }\n",
       "</style>\n",
       "<table border=\"1\" class=\"dataframe\">\n",
       "  <thead>\n",
       "    <tr style=\"text-align: right;\">\n",
       "      <th></th>\n",
       "      <th>ds</th>\n",
       "      <th>y</th>\n",
       "    </tr>\n",
       "  </thead>\n",
       "  <tbody>\n",
       "    <tr>\n",
       "      <th>0</th>\n",
       "      <td>2018-08-01 00:00:00</td>\n",
       "      <td>3.984586e-07</td>\n",
       "    </tr>\n",
       "    <tr>\n",
       "      <th>1</th>\n",
       "      <td>2018-08-01 01:00:00</td>\n",
       "      <td>3.956120e-07</td>\n",
       "    </tr>\n",
       "    <tr>\n",
       "      <th>2</th>\n",
       "      <td>2018-08-01 02:00:00</td>\n",
       "      <td>3.964584e-07</td>\n",
       "    </tr>\n",
       "    <tr>\n",
       "      <th>3</th>\n",
       "      <td>2018-08-01 03:00:00</td>\n",
       "      <td>3.974058e-07</td>\n",
       "    </tr>\n",
       "    <tr>\n",
       "      <th>4</th>\n",
       "      <td>2018-08-01 04:00:00</td>\n",
       "      <td>3.956495e-07</td>\n",
       "    </tr>\n",
       "  </tbody>\n",
       "</table>\n",
       "</div>"
      ],
      "text/plain": [
       "                   ds             y\n",
       "0 2018-08-01 00:00:00  3.984586e-07\n",
       "1 2018-08-01 01:00:00  3.956120e-07\n",
       "2 2018-08-01 02:00:00  3.964584e-07\n",
       "3 2018-08-01 03:00:00  3.974058e-07\n",
       "4 2018-08-01 04:00:00  3.956495e-07"
      ]
     },
     "execution_count": 4,
     "metadata": {},
     "output_type": "execute_result"
    }
   ],
   "source": [
    "df2 = df.copy()[['TR']].reset_index()\n",
    "df2 = df2.rename(columns={'index':\"ds\",'TR':\"y\"})\n",
    "\n",
    "df2.head()"
   ]
  },
  {
   "cell_type": "code",
   "execution_count": 5,
   "metadata": {
    "colab": {
     "base_uri": "https://localhost:8080/"
    },
    "id": "62mAavEbEAld",
    "outputId": "c4a38206-6eab-479c-92b7-de78067341de"
   },
   "outputs": [
    {
     "data": {
      "text/plain": [
       "(720, 7)"
      ]
     },
     "execution_count": 5,
     "metadata": {},
     "output_type": "execute_result"
    }
   ],
   "source": [
    "df.shape"
   ]
  },
  {
   "cell_type": "code",
   "execution_count": 7,
   "metadata": {
    "id": "ENkln3_YCHm_"
   },
   "outputs": [],
   "source": [
    "from prophet import Prophet"
   ]
  },
  {
   "cell_type": "code",
   "execution_count": 7,
   "metadata": {
    "colab": {
     "base_uri": "https://localhost:8080/"
    },
    "id": "_YPe6cHwCYOq",
    "outputId": "4dfb22ca-5912-47d5-c6cd-68af21275281"
   },
   "outputs": [
    {
     "name": "stderr",
     "output_type": "stream",
     "text": [
      "17:24:02 - cmdstanpy - INFO - Chain [1] start processing\n",
      "17:24:02 - cmdstanpy - INFO - Chain [1] done processing\n"
     ]
    },
    {
     "data": {
      "text/plain": [
       "<prophet.forecaster.Prophet at 0x7f49759e41c0>"
      ]
     },
     "execution_count": 7,
     "metadata": {},
     "output_type": "execute_result"
    }
   ],
   "source": [
    "m = Prophet()\n",
    "m.fit(df2)"
   ]
  },
  {
   "cell_type": "markdown",
   "metadata": {
    "id": "sTxUlEvRCwhZ"
   },
   "source": [
    "### Forecast for next 15 days"
   ]
  },
  {
   "cell_type": "markdown",
   "metadata": {
    "id": "LVZxDWTHCnNl"
   },
   "source": [
    "Let's add 10% increase from the historical mean as the threshold for monitoring"
   ]
  },
  {
   "cell_type": "code",
   "execution_count": 8,
   "metadata": {
    "colab": {
     "base_uri": "https://localhost:8080/",
     "height": 441
    },
    "id": "oS_QU2R9CYLR",
    "outputId": "4042962d-8b0a-4a40-d525-dc516b0bb039"
   },
   "outputs": [
    {
     "data": {
      "image/png": "[encoded data removed]",
      "text/plain": [
       "<Figure size 720x432 with 1 Axes>"
      ]
     },
     "metadata": {},
     "output_type": "display_data"
    }
   ],
   "source": [
    "future = m.make_future_dataframe(periods=24*15, freq='H')\n",
    "future['cap'] = 1.1*df['TR'].mean() #\n",
    "fcst = m.predict(future)\n",
    "fig = m.plot(fcst)"
   ]
  },
  {
   "cell_type": "markdown",
   "metadata": {
    "id": "_IiSnzsOEccV"
   },
   "source": [
    "It shows that as per current trend based on last few weeks, data, it will cross the threshold very soon. This information can be utilized by the maintenance department or the operations."
   ]
  },
  {
   "cell_type": "markdown",
   "metadata": {
    "id": "YssZPowtFKZK"
   },
   "source": [
    "Next, we can create the cognite function to run this model daily and save the forecasts in CDF for monitoring purposes."
   ]
  },
  {
   "cell_type": "markdown",
   "metadata": {
    "id": "FKJw_wNWFYcP"
   },
   "source": [
    "## Running ML predictions with cognite functions"
   ]
  },
  {
   "cell_type": "markdown",
   "metadata": {
    "id": "LRcHIkt3ISmj"
   },
   "source": [
    "Add the below code the the handler.py file. Additionally, we need to create a requirements.txt file to add the Prophet library as dependency to be installed."
   ]
  },
  {
   "cell_type": "code",
   "execution_count": 8,
   "metadata": {
    "id": "CszZ5-QN_Fsn"
   },
   "outputs": [],
   "source": [
    "from cognite.client.data_classes import TimeSeries\n",
    "from math import log\n",
    "import datetime\n",
    "from datetime import timedelta\n",
    "from prophet import Prophet\n",
    "\n",
    "def thermal_resistance(x):\n",
    "    '''Function to calculate Thermal Resistance'''\n",
    "    # Some constants like Correction factor, Area and Cp values\n",
    "    F = 0.8\n",
    "    A = 1.0\n",
    "    Cp_hot = 2.4\n",
    "    # Calculate the cross temperature differences\n",
    "    x['dT1'] = x['T_hot_IN'] - x['T_cold_OUT']\n",
    "    x['dT2'] = x['T_hot_OUT'] - x['T_cold_IN']\n",
    "    # Calculate the numerator and denominator for the thermal resistance calculation\n",
    "    temp1 = A*F*(x['dT1']-x['dT2'])/log(x['dT1']/x['dT2'])\n",
    "    temp2 = x['Flow_hot']*Cp_hot*(x['T_hot_IN']-x['T_hot_OUT'])\n",
    "    tr = temp1/temp2\n",
    "    return tr\n",
    "\n",
    "def thermal_resistance_forecast(df):\n",
    "    '''Function to forecast the Thermal Resistance'''\n",
    "    df2 = df.copy()[['TR']].reset_index()\n",
    "    df2 = df2.rename(columns={'index':\"ds\",'TR':\"y\"})\n",
    "    m = Prophet()\n",
    "    m.fit(df2)\n",
    "    future = m.make_future_dataframe(periods=24*15, freq='H')\n",
    "    future['cap'] = 1.1*df['TR'].mean() #\n",
    "    fcst = m.predict(future)\n",
    "    fcst_df = fcst[['ds','yhat']].set_index('ds')\n",
    "    fcst_df.columns = ['TR']\n",
    "    return fcst_df\n",
    "\n",
    "def create_and_save_time_series_data(client,data,ts_external_id,data_set_id):\n",
    "    '''Function to create the time series and save the data'''\n",
    "    cdf_ts = client.time_series.retrieve(external_id=ts_external_id)\n",
    "    if cdf_ts is None:\n",
    "        ts = TimeSeries(external_id=ts_external_id,name=ts_external_id, unit = 'm2K/W',data_set_id=data_set_id)\n",
    "        client.time_series.create(ts)\n",
    "        print(\"Created time series\")\n",
    "    else:\n",
    "        print(\"Existing Time Series\")\n",
    "        \n",
    "    dps = []\n",
    "    for index, r in data.iterrows():\n",
    "        dps= dps+[{\"timestamp\": r.name, \"value\": r['TR']}]\n",
    "        client.datapoints.insert(datapoints = dps,external_id = ts_external_id)\n",
    "\n",
    "\n",
    "def handle(client,data=None, secrets=None, function_call_info=None):\n",
    "    \"\"\"Handler Function to be Run/Deployed\n",
    "    Args:\n",
    "        client : Cognite Client (not needed, it's availble to it, when deployed)\n",
    "        data : data needed by function\n",
    "        secrets : Any secrets it needs\n",
    "        function_call_info : any other information about function\n",
    "\n",
    "    Returns:\n",
    "        response : response or result from the function \n",
    "    \"\"\"\n",
    "    data_set_id = client.data_sets.retrieve(external_id='functions-playground').id\n",
    "    ts_exids = ['pi:163657','pi:163658','pi:160887','pi:191092','pi:163374','pi:160184']\n",
    "    column_names = [\"T_cold_IN\",\"T_cold_OUT\",\"T_hot_IN\",\"T_hot_OUT\",\"Flow_cold\",\"Flow_hot\"]\n",
    "    your_name = data['your_name']\n",
    "    # Retrieve the data\n",
    "    start_date = datetime.datetime(2018, 8, 1)\n",
    "    end_date = start_date + timedelta(days=30)\n",
    "    df = client.datapoints.retrieve_dataframe(external_id=ts_exids,\n",
    "                                                        aggregates=['average'],\n",
    "                                                        granularity='1h',\n",
    "                                                        start=start_date,\n",
    "                                                        end=end_date,\n",
    "                                                        include_aggregate_name=False\n",
    "                                                        )\n",
    "    df.fillna(method=\"ffill\", inplace=True)\n",
    "    df.columns = column_names\n",
    "    # Calculate the Thermal resistance\n",
    "    df['TR'] = df.apply(lambda x:thermal_resistance(x),axis=1)\n",
    "    # Forecast the Thermal resistance\n",
    "    fcst_df = thermal_resistance_forecast(df)\n",
    "    # Save the Results as time series\n",
    "    create_and_save_time_series_data(client,df[['TR']],f\"hx_thermal_resistance_{your_name}\", data_set_id=data_set_id)\n",
    "    create_and_save_time_series_data(client,fcst_df[['TR']],f\"hx_thermal_resistance_forecast_{your_name}\", data_set_id=data_set_id)\n",
    "    # Return the result as json\n",
    "    result = df[['TR']].to_json()\n",
    "    return result"
   ]
  },
  {
   "cell_type": "markdown",
   "metadata": {},
   "source": [
    "We can create a new folder and save the updated handler.py & requirements.txt file there. There is already a folder in solutions if you would like to use that"
   ]
  },
  {
   "cell_type": "code",
   "execution_count": 3,
   "metadata": {},
   "outputs": [
    {
     "name": "stderr",
     "output_type": "stream",
     "text": [
      "/home/keepfloyding/.local/lib/python3.10/site-packages/tqdm/auto.py:22: TqdmWarning: IProgress not found. Please update jupyter and ipywidgets. See https://ipywidgets.readthedocs.io/en/stable/user_install.html\n",
      "  from .autonotebook import tqdm as notebook_tqdm\n",
      "Importing plotly failed. Interactive plots will not work.\n"
     ]
    }
   ],
   "source": [
    "function_external_id = f\"fthermal-perf-forecast-{YOUR_NAME}\"\n",
    "\n",
    "#folder_dir = <YOUR_CUSTOM_FOLDER> # location of your code and folder directory\n",
    "folder_dir ='../solutions/hx-thermal-resistance-forecast/'\n",
    "\n",
    "\n",
    "function = client.functions.create(\n",
    "    name=\"Thermal Performance Forecasting Function\",\n",
    "    external_id=function_external_id,\n",
    "    folder=folder_dir,\n",
    "    description=\"Function to Calculate & Forecast Thermal Performance of Discharge Coolers\",\n",
    "    owner=YOUR_NAME\n",
    "    )\n",
    "# Note : if this cell is giving you errors :\n",
    "# Just restart the notebook, create the cognite client and run this cell again."
   ]
  },
  {
   "cell_type": "code",
   "execution_count": 4,
   "metadata": {},
   "outputs": [
    {
     "name": "stdout",
     "output_type": "stream",
     "text": [
      "Function is successfully deployed. Wait time: 459 seconds.\n"
     ]
    }
   ],
   "source": [
    "from function_tools import status_check\n",
    "\n",
    "status_check(function)"
   ]
  },
  {
   "cell_type": "code",
   "execution_count": 5,
   "metadata": {},
   "outputs": [
    {
     "data": {
      "text/html": [
       "<div>\n",
       "<style scoped>\n",
       "    .dataframe tbody tr th:only-of-type {\n",
       "        vertical-align: middle;\n",
       "    }\n",
       "\n",
       "    .dataframe tbody tr th {\n",
       "        vertical-align: top;\n",
       "    }\n",
       "\n",
       "    .dataframe thead th {\n",
       "        text-align: right;\n",
       "    }\n",
       "</style>\n",
       "<table border=\"1\" class=\"dataframe\">\n",
       "  <thead>\n",
       "    <tr style=\"text-align: right;\">\n",
       "      <th></th>\n",
       "      <th>value</th>\n",
       "    </tr>\n",
       "  </thead>\n",
       "  <tbody>\n",
       "    <tr>\n",
       "      <th>id</th>\n",
       "      <td>1270349217354382</td>\n",
       "    </tr>\n",
       "    <tr>\n",
       "      <th>start_time</th>\n",
       "      <td>1659612741050</td>\n",
       "    </tr>\n",
       "    <tr>\n",
       "      <th>end_time</th>\n",
       "      <td>1659612776374</td>\n",
       "    </tr>\n",
       "    <tr>\n",
       "      <th>status</th>\n",
       "      <td>Completed</td>\n",
       "    </tr>\n",
       "    <tr>\n",
       "      <th>function_id</th>\n",
       "      <td>1158349233356289</td>\n",
       "    </tr>\n",
       "  </tbody>\n",
       "</table>\n",
       "</div>"
      ],
      "text/plain": [
       "<cognite.experimental.data_classes.functions.FunctionCall at 0x7fb5d80827a0>"
      ]
     },
     "execution_count": 5,
     "metadata": {},
     "output_type": "execute_result"
    }
   ],
   "source": [
    "# Call your function\n",
    "\n",
    "call = function.call(data={'your_name':YOUR_NAME})\n",
    "call"
   ]
  },
  {
   "cell_type": "code",
   "execution_count": 9,
   "metadata": {},
   "outputs": [
    {
     "name": "stderr",
     "output_type": "stream",
     "text": [
      "/home/keepfloyding/.env/lib64/python3.9/site-packages/cognite/client/utils/_time.py:16: FutureWarning: Interpreting given naive datetime as UTC instead of local time (against Python default behaviour). This will change in the next major release (4.0.0). Please use (timezone) aware datetimes or convert it yourself to integer (number of milliseconds since epoch, leap seconds excluded).\n",
      "  warnings.warn(\n",
      "17:35:05 - cmdstanpy - INFO - Chain [1] start processing\n",
      "17:35:05 - cmdstanpy - INFO - Chain [1] done processing\n"
     ]
    },
    {
     "name": "stdout",
     "output_type": "stream",
     "text": [
      "Created time series\n",
      "Created time series\n"
     ]
    },
    {
     "data": {
      "text/plain": [
       "'{\"TR\":{\"1533081600000\":0.0000003985,\"1533085200000\":0.0000003956,\"1533088800000\":0.0000003965,\"1533092400000\":0.0000003974,\"1533096000000\":0.0000003956,\"1533099600000\":0.0000003962,\"1533103200000\":0.0000003952,\"1533106800000\":0.0000003964,\"1533110400000\":0.000000398,\"1533114000000\":0.0000003968,\"1533117600000\":0.0000003989,\"1533121200000\":0.0000003988,\"1533124800000\":0.0000003987,\"1533128400000\":0.0000003897,\"1533132000000\":0.0000003993,\"1533135600000\":0.0000003968,\"1533139200000\":0.0000004024,\"1533142800000\":0.0000004048,\"1533146400000\":0.0000004057,\"1533150000000\":0.0000004056,\"1533153600000\":0.0000004056,\"1533157200000\":0.0000004038,\"1533160800000\":0.0000004019,\"1533164400000\":0.0000004014,\"1533168000000\":0.0000003992,\"1533171600000\":0.0000004001,\"1533175200000\":0.0000004007,\"1533178800000\":0.0000003992,\"1533182400000\":0.0000004005,\"1533186000000\":0.0000004012,\"1533189600000\":0.0000004015,\"1533193200000\":0.0000003959,\"1533196800000\":0.0000003966,\"1533200400000\":0.0000003959,\"1533204000000\":0.0000003953,\"1533207600000\":0.0000003953,\"1533211200000\":0.0000003995,\"1533214800000\":0.0000003998,\"1533218400000\":0.0000004002,\"1533222000000\":0.0000003995,\"1533225600000\":0.0000003994,\"1533229200000\":0.0000004002,\"1533232800000\":0.0000004026,\"1533236400000\":0.0000004031,\"1533240000000\":0.0000004001,\"1533243600000\":0.0000003981,\"1533247200000\":0.000000399,\"1533250800000\":0.000000394,\"1533254400000\":0.0000003979,\"1533258000000\":0.0000003991,\"1533261600000\":0.0000003966,\"1533265200000\":0.0000003959,\"1533268800000\":0.0000003998,\"1533272400000\":0.0000003994,\"1533276000000\":0.0000003989,\"1533279600000\":0.0000004014,\"1533283200000\":0.0000004024,\"1533286800000\":0.0000004022,\"1533290400000\":0.0000004014,\"1533294000000\":0.0000004024,\"1533297600000\":0.0000004052,\"1533301200000\":0.0000004043,\"1533304800000\":0.0000004014,\"1533308400000\":0.0000004017,\"1533312000000\":0.0000003995,\"1533315600000\":0.000000401,\"1533319200000\":0.0000004011,\"1533322800000\":0.0000003994,\"1533326400000\":0.0000003261,\"1533330000000\":0.0000003475,\"1533333600000\":0.0000003697,\"1533337200000\":0.0000003776,\"1533340800000\":0.0000003833,\"1533344400000\":0.0000003858,\"1533348000000\":0.000000392,\"1533351600000\":0.0000003699,\"1533355200000\":0.0000003733,\"1533358800000\":0.0000003723,\"1533362400000\":0.0000003724,\"1533366000000\":0.0000003696,\"1533369600000\":0.0000003777,\"1533373200000\":0.0000003783,\"1533376800000\":0.0000003788,\"1533380400000\":0.0000003773,\"1533384000000\":0.0000003806,\"1533387600000\":0.0000003945,\"1533391200000\":0.0000003998,\"1533394800000\":0.0000003963,\"1533398400000\":0.0000003963,\"1533402000000\":0.0000003967,\"1533405600000\":0.0000004,\"1533409200000\":0.0000003998,\"1533412800000\":0.0000004016,\"1533416400000\":0.0000004043,\"1533420000000\":0.0000004045,\"1533423600000\":0.0000003996,\"1533427200000\":0.0000004022,\"1533430800000\":0.0000003992,\"1533434400000\":0.0000003989,\"1533438000000\":0.000000396,\"1533441600000\":0.0000003971,\"1533445200000\":0.0000003924,\"1533448800000\":0.0000003947,\"1533452400000\":0.000000396,\"1533456000000\":0.0000003984,\"1533459600000\":0.0000003974,\"1533463200000\":0.0000004011,\"1533466800000\":0.0000004002,\"1533470400000\":0.0000004006,\"1533474000000\":0.0000004021,\"1533477600000\":0.0000004018,\"1533481200000\":0.0000004022,\"1533484800000\":0.0000003984,\"1533488400000\":0.0000004023,\"1533492000000\":0.0000004032,\"1533495600000\":0.0000004021,\"1533499200000\":0.000000398,\"1533502800000\":0.0000003963,\"1533506400000\":0.0000003941,\"1533510000000\":0.0000003961,\"1533513600000\":0.0000003915,\"1533517200000\":0.0000003931,\"1533520800000\":0.000000389,\"1533524400000\":0.0000003919,\"1533528000000\":0.0000003877,\"1533531600000\":0.0000003916,\"1533535200000\":0.0000003912,\"1533538800000\":0.0000003988,\"1533542400000\":0.0000003976,\"1533546000000\":0.0000003999,\"1533549600000\":0.0000004002,\"1533553200000\":0.0000003976,\"1533556800000\":0.0000003978,\"1533560400000\":0.0000003981,\"1533564000000\":0.0000003983,\"1533567600000\":0.000000397,\"1533571200000\":0.0000003979,\"1533574800000\":0.0000003968,\"1533578400000\":0.0000003995,\"1533582000000\":0.0000004032,\"1533585600000\":0.0000004002,\"1533589200000\":0.000000403,\"1533592800000\":0.0000004013,\"1533596400000\":0.0000004006,\"1533600000000\":0.0000004007,\"1533603600000\":0.0000003934,\"1533607200000\":0.0000003929,\"1533610800000\":0.0000003943,\"1533614400000\":0.0000004009,\"1533618000000\":0.0000003949,\"1533621600000\":0.0000004001,\"1533625200000\":0.0000003971,\"1533628800000\":0.0000003956,\"1533632400000\":0.0000003974,\"1533636000000\":0.0000003998,\"1533639600000\":0.0000003958,\"1533643200000\":0.0000003978,\"1533646800000\":0.0000003983,\"1533650400000\":0.0000004021,\"1533654000000\":0.0000003986,\"1533657600000\":0.0000003966,\"1533661200000\":0.0000003942,\"1533664800000\":0.0000003948,\"1533668400000\":0.0000003953,\"1533672000000\":0.0000003978,\"1533675600000\":0.0000004027,\"1533679200000\":0.000000399,\"1533682800000\":0.0000004029,\"1533686400000\":0.0000004035,\"1533690000000\":0.0000004055,\"1533693600000\":0.0000004073,\"1533697200000\":0.0000004118,\"1533700800000\":0.0000004094,\"1533704400000\":0.0000004131,\"1533708000000\":0.0000004101,\"1533711600000\":0.0000004103,\"1533715200000\":0.0000004105,\"1533718800000\":0.0000004132,\"1533722400000\":0.0000004067,\"1533726000000\":0.0000004105,\"1533729600000\":0.0000004078,\"1533733200000\":0.0000004107,\"1533736800000\":0.0000004108,\"1533740400000\":0.0000004105,\"1533744000000\":0.0000004091,\"1533747600000\":0.0000004099,\"1533751200000\":0.0000004035,\"1533754800000\":0.0000003995,\"1533758400000\":0.0000003996,\"1533762000000\":0.0000003984,\"1533765600000\":0.0000003973,\"1533769200000\":0.0000003999,\"1533772800000\":0.0000003969,\"1533776400000\":0.0000003995,\"1533780000000\":0.000000405,\"1533783600000\":0.0000004065,\"1533787200000\":0.0000004062,\"1533790800000\":0.0000004066,\"1533794400000\":0.000000406,\"1533798000000\":0.0000004074,\"1533801600000\":0.0000004061,\"1533805200000\":0.0000004034,\"1533808800000\":0.0000004071,\"1533812400000\":0.0000004048,\"1533816000000\":0.0000004072,\"1533819600000\":0.0000004083,\"1533823200000\":0.0000004065,\"1533826800000\":0.0000004095,\"1533830400000\":0.0000004042,\"1533834000000\":0.0000004037,\"1533837600000\":0.0000004034,\"1533841200000\":0.0000004022,\"1533844800000\":0.0000004022,\"1533848400000\":0.0000004008,\"1533852000000\":0.0000004045,\"1533855600000\":0.0000004045,\"1533859200000\":0.0000004065,\"1533862800000\":0.0000004054,\"1533866400000\":0.0000003994,\"1533870000000\":0.0000004005,\"1533873600000\":0.0000004015,\"1533877200000\":0.0000004048,\"1533880800000\":0.0000004053,\"1533884400000\":0.0000004058,\"1533888000000\":0.0000004077,\"1533891600000\":0.0000004071,\"1533895200000\":0.0000004085,\"1533898800000\":0.0000004079,\"1533902400000\":0.0000004056,\"1533906000000\":0.0000004038,\"1533909600000\":0.0000004031,\"1533913200000\":0.0000003998,\"1533916800000\":0.0000004011,\"1533920400000\":0.000000401,\"1533924000000\":0.0000004008,\"1533927600000\":0.0000004045,\"1533931200000\":0.0000004049,\"1533934800000\":0.0000004052,\"1533938400000\":0.0000004041,\"1533942000000\":0.0000004051,\"1533945600000\":0.0000004046,\"1533949200000\":0.0000004057,\"1533952800000\":0.000000404,\"1533956400000\":0.000000408,\"1533960000000\":0.0000004051,\"1533963600000\":0.000000403,\"1533967200000\":0.0000004042,\"1533970800000\":0.0000004064,\"1533974400000\":0.0000004083,\"1533978000000\":0.0000004055,\"1533981600000\":0.0000004089,\"1533985200000\":0.0000004063,\"1533988800000\":0.00000041,\"1533992400000\":0.0000004105,\"1533996000000\":0.0000004101,\"1533999600000\":0.0000004095,\"1534003200000\":0.0000004116,\"1534006800000\":0.0000004104,\"1534010400000\":0.0000004124,\"1534014000000\":0.0000004111,\"1534017600000\":0.0000004091,\"1534021200000\":0.0000004096,\"1534024800000\":0.000000408,\"1534028400000\":0.0000004061,\"1534032000000\":0.0000004064,\"1534035600000\":0.0000004044,\"1534039200000\":0.0000004051,\"1534042800000\":0.0000004077,\"1534046400000\":0.0000004062,\"1534050000000\":0.0000004082,\"1534053600000\":0.0000004071,\"1534057200000\":0.0000004013,\"1534060800000\":0.0000003982,\"1534064400000\":0.0000004016,\"1534068000000\":0.0000003983,\"1534071600000\":0.0000003892,\"1534075200000\":0.0000003906,\"1534078800000\":0.0000003901,\"1534082400000\":0.0000003919,\"1534086000000\":0.0000003914,\"1534089600000\":0.0000003943,\"1534093200000\":0.0000003938,\"1534096800000\":0.0000003978,\"1534100400000\":0.0000003959,\"1534104000000\":0.0000003974,\"1534107600000\":0.0000003993,\"1534111200000\":0.0000004022,\"1534114800000\":0.0000004011,\"1534118400000\":0.0000004012,\"1534122000000\":0.0000004014,\"1534125600000\":0.000000397,\"1534129200000\":0.0000004014,\"1534132800000\":0.0000003974,\"1534136400000\":0.0000003979,\"1534140000000\":0.0000003992,\"1534143600000\":0.0000003959,\"1534147200000\":0.0000003957,\"1534150800000\":0.0000003982,\"1534154400000\":0.0000003969,\"1534158000000\":0.0000003964,\"1534161600000\":0.0000004002,\"1534165200000\":0.0000004007,\"1534168800000\":0.000000401,\"1534172400000\":0.0000004034,\"1534176000000\":0.0000004044,\"1534179600000\":0.0000004029,\"1534183200000\":0.0000004049,\"1534186800000\":0.0000004042,\"1534190400000\":0.0000004068,\"1534194000000\":0.0000004071,\"1534197600000\":0.0000004042,\"1534201200000\":0.0000004033,\"1534204800000\":0.0000004022,\"1534208400000\":0.0000004004,\"1534212000000\":0.0000003996,\"1534215600000\":0.0000004051,\"1534219200000\":0.0000004043,\"1534222800000\":0.0000004054,\"1534226400000\":0.0000004074,\"1534230000000\":0.0000004054,\"1534233600000\":0.0000004052,\"1534237200000\":0.0000004068,\"1534240800000\":0.0000004066,\"1534244400000\":0.0000004078,\"1534248000000\":0.0000004098,\"1534251600000\":0.0000004095,\"1534255200000\":0.0000004053,\"1534258800000\":0.0000004055,\"1534262400000\":0.0000004031,\"1534266000000\":0.0000004103,\"1534269600000\":0.0000004119,\"1534273200000\":0.0000004128,\"1534276800000\":0.0000004113,\"1534280400000\":0.0000004122,\"1534284000000\":0.0000004072,\"1534287600000\":0.0000004114,\"1534291200000\":0.0000004103,\"1534294800000\":0.0000004067,\"1534298400000\":0.0000004103,\"1534302000000\":0.0000004145,\"1534305600000\":0.0000004106,\"1534309200000\":0.000000409,\"1534312800000\":0.0000004036,\"1534316400000\":0.000000409,\"1534320000000\":0.0000004059,\"1534323600000\":0.0000004086,\"1534327200000\":0.0000004077,\"1534330800000\":0.0000004024,\"1534334400000\":0.0000004071,\"1534338000000\":0.000000404,\"1534341600000\":0.0000003975,\"1534345200000\":0.0000003652,\"1534348800000\":0.0000003489,\"1534352400000\":0.0000003576,\"1534356000000\":0.0000003662,\"1534359600000\":0.0000003745,\"1534363200000\":0.000000369,\"1534366800000\":0.0000003694,\"1534370400000\":0.0000003698,\"1534374000000\":0.0000003693,\"1534377600000\":0.0000003716,\"1534381200000\":0.000000388,\"1534384800000\":0.0000003911,\"1534388400000\":0.0000003863,\"1534392000000\":0.0000003946,\"1534395600000\":0.0000003985,\"1534399200000\":0.000000396,\"1534402800000\":0.0000003964,\"1534406400000\":0.0000003889,\"1534410000000\":0.0000003891,\"1534413600000\":0.0000003889,\"1534417200000\":0.000000393,\"1534420800000\":0.000000389,\"1534424400000\":0.0000003934,\"1534428000000\":0.0000003894,\"1534431600000\":0.0000004006,\"1534435200000\":0.0000003976,\"1534438800000\":0.0000003999,\"1534442400000\":0.0000003993,\"1534446000000\":0.0000003946,\"1534449600000\":0.0000003903,\"1534453200000\":0.0000003882,\"1534456800000\":0.0000003946,\"1534460400000\":0.0000003221,\"1534464000000\":0.0000003163,\"1534467600000\":0.000000316,\"1534471200000\":0.0000003215,\"1534474800000\":0.0000003182,\"1534478400000\":0.0000003296,\"1534482000000\":0.0000003417,\"1534485600000\":0.0000003523,\"1534489200000\":0.0000003543,\"1534492800000\":0.0000003546,\"1534496400000\":0.0000003608,\"1534500000000\":0.0000003633,\"1534503600000\":0.000000386,\"1534507200000\":0.0000003868,\"1534510800000\":0.0000003848,\"1534514400000\":0.0000003863,\"1534518000000\":0.0000003922,\"1534521600000\":0.000000388,\"1534525200000\":0.0000003855,\"1534528800000\":0.0000003885,\"1534532400000\":0.0000003883,\"1534536000000\":0.0000003872,\"1534539600000\":0.0000003856,\"1534543200000\":0.0000003842,\"1534546800000\":0.0000003848,\"1534550400000\":0.0000003834,\"1534554000000\":0.0000003837,\"1534557600000\":0.0000003819,\"1534561200000\":0.0000003844,\"1534564800000\":0.0000003847,\"1534568400000\":0.0000003865,\"1534572000000\":0.0000003883,\"1534575600000\":0.0000003924,\"1534579200000\":0.0000003877,\"1534582800000\":0.0000003912,\"1534586400000\":0.0000003871,\"1534590000000\":0.0000003913,\"1534593600000\":0.0000003925,\"1534597200000\":0.0000003901,\"1534600800000\":0.0000003875,\"1534604400000\":0.0000003871,\"1534608000000\":0.0000003888,\"1534611600000\":0.0000003897,\"1534615200000\":0.0000003923,\"1534618800000\":0.0000003928,\"1534622400000\":0.0000003936,\"1534626000000\":0.00000039,\"1534629600000\":0.0000003922,\"1534633200000\":0.0000003936,\"1534636800000\":0.0000003948,\"1534640400000\":0.000000395,\"1534644000000\":0.0000003941,\"1534647600000\":0.0000003933,\"1534651200000\":0.0000003957,\"1534654800000\":0.000000395,\"1534658400000\":0.0000003952,\"1534662000000\":0.0000003945,\"1534665600000\":0.0000003907,\"1534669200000\":0.0000003845,\"1534672800000\":0.0000003846,\"1534676400000\":0.0000003828,\"1534680000000\":0.0000003823,\"1534683600000\":0.0000003864,\"1534687200000\":0.0000003979,\"1534690800000\":0.0000003966,\"1534694400000\":0.0000003947,\"1534698000000\":0.000000394,\"1534701600000\":0.0000004013,\"1534705200000\":0.0000003956,\"1534708800000\":0.0000003981,\"1534712400000\":0.0000003992,\"1534716000000\":0.0000003975,\"1534719600000\":0.0000003963,\"1534723200000\":0.0000003984,\"1534726800000\":0.0000003961,\"1534730400000\":0.0000003961,\"1534734000000\":0.0000003973,\"1534737600000\":0.0000003981,\"1534741200000\":0.0000003991,\"1534744800000\":0.0000003991,\"1534748400000\":0.0000003992,\"1534752000000\":0.0000003995,\"1534755600000\":0.0000004004,\"1534759200000\":0.0000003979,\"1534762800000\":0.0000004008,\"1534766400000\":0.0000003954,\"1534770000000\":0.0000003967,\"1534773600000\":0.0000003995,\"1534777200000\":0.0000003984,\"1534780800000\":0.0000003973,\"1534784400000\":0.0000004001,\"1534788000000\":0.0000004008,\"1534791600000\":0.0000003984,\"1534795200000\":0.000000402,\"1534798800000\":0.0000003996,\"1534802400000\":0.0000004021,\"1534806000000\":0.0000003998,\"1534809600000\":0.0000003993,\"1534813200000\":0.0000004014,\"1534816800000\":0.0000003989,\"1534820400000\":0.0000004011,\"1534824000000\":0.0000003986,\"1534827600000\":0.0000003963,\"1534831200000\":0.0000003961,\"1534834800000\":0.0000003959,\"1534838400000\":0.0000003923,\"1534842000000\":0.0000003928,\"1534845600000\":0.0000003937,\"1534849200000\":0.0000003928,\"1534852800000\":0.00000039,\"1534856400000\":0.0000003883,\"1534860000000\":0.0000003905,\"1534863600000\":0.0000003914,\"1534867200000\":0.0000003893,\"1534870800000\":0.0000003911,\"1534874400000\":0.0000003933,\"1534878000000\":0.0000003911,\"1534881600000\":0.00000039,\"1534885200000\":0.0000003889,\"1534888800000\":0.0000003888,\"1534892400000\":0.0000003884,\"1534896000000\":0.0000003876,\"1534899600000\":0.0000003898,\"1534903200000\":0.0000003905,\"1534906800000\":0.00000039,\"1534910400000\":0.0000003914,\"1534914000000\":0.0000003904,\"1534917600000\":0.0000003898,\"1534921200000\":0.000000388,\"1534924800000\":0.000000391,\"1534928400000\":0.0000003892,\"1534932000000\":0.0000003917,\"1534935600000\":0.0000003906,\"1534939200000\":0.0000003908,\"1534942800000\":0.0000003914,\"1534946400000\":0.0000003919,\"1534950000000\":0.0000003913,\"1534953600000\":0.0000003932,\"1534957200000\":0.0000003906,\"1534960800000\":0.0000003933,\"1534964400000\":0.0000003946,\"1534968000000\":0.0000003959,\"1534971600000\":0.0000003968,\"1534975200000\":0.0000003962,\"1534978800000\":0.0000003961,\"1534982400000\":0.0000003964,\"1534986000000\":0.000000397,\"1534989600000\":0.0000003967,\"1534993200000\":0.000000399,\"1534996800000\":0.0000003963,\"1535000400000\":0.000000397,\"1535004000000\":0.000000391,\"1535007600000\":0.0000004005,\"1535011200000\":0.0000004013,\"1535014800000\":0.0000004077,\"1535018400000\":0.000000403,\"1535022000000\":0.0000004062,\"1535025600000\":0.0000004076,\"1535029200000\":0.0000004052,\"1535032800000\":0.0000004058,\"1535036400000\":0.000000404,\"1535040000000\":0.0000004057,\"1535043600000\":0.0000004056,\"1535047200000\":0.0000004017,\"1535050800000\":0.0000004043,\"1535054400000\":0.0000004022,\"1535058000000\":0.0000003982,\"1535061600000\":0.0000004005,\"1535065200000\":0.0000003965,\"1535068800000\":0.0000004014,\"1535072400000\":0.0000004009,\"1535076000000\":0.0000004033,\"1535079600000\":0.0000004026,\"1535083200000\":0.0000004037,\"1535086800000\":0.0000004016,\"1535090400000\":0.000000402,\"1535094000000\":0.0000003993,\"1535097600000\":0.0000003999,\"1535101200000\":0.0000004005,\"1535104800000\":0.000000402,\"1535108400000\":0.0000004009,\"1535112000000\":0.0000004029,\"1535115600000\":0.0000004009,\"1535119200000\":0.0000004007,\"1535122800000\":0.0000003957,\"1535126400000\":0.0000003992,\"1535130000000\":0.0000004031,\"1535133600000\":0.0000004019,\"1535137200000\":0.0000004003,\"1535140800000\":0.0000004021,\"1535144400000\":0.0000003954,\"1535148000000\":0.0000003968,\"1535151600000\":0.0000003935,\"1535155200000\":0.0000003627,\"1535158800000\":0.0000002595,\"1535162400000\":0.000000262,\"1535166000000\":0.0000002628,\"1535169600000\":0.0000002623,\"1535173200000\":0.0000002633,\"1535176800000\":0.0000002628,\"1535180400000\":0.0000002631,\"1535184000000\":0.0000002638,\"1535187600000\":0.0000002642,\"1535191200000\":0.0000002639,\"1535194800000\":0.0000002646,\"1535198400000\":0.0000002653,\"1535202000000\":0.0000002647,\"1535205600000\":0.0000002614,\"1535209200000\":0.0000002519,\"1535212800000\":0.0000002668,\"1535216400000\":0.0000002665,\"1535220000000\":0.0000002604,\"1535223600000\":0.0000002598,\"1535227200000\":0.0000002709,\"1535230800000\":0.000000281,\"1535234400000\":0.0000003026,\"1535238000000\":0.0000003162,\"1535241600000\":0.0000003191,\"1535245200000\":0.0000003346,\"1535248800000\":0.0000003359,\"1535252400000\":0.0000003398,\"1535256000000\":0.0000003375,\"1535259600000\":0.0000003388,\"1535263200000\":0.0000003404,\"1535266800000\":0.0000003404,\"1535270400000\":0.0000003419,\"1535274000000\":0.0000003565,\"1535277600000\":0.0000003525,\"1535281200000\":0.0000003584,\"1535284800000\":0.0000003604,\"1535288400000\":0.0000003593,\"1535292000000\":0.0000003572,\"1535295600000\":0.0000003624,\"1535299200000\":0.0000003552,\"1535302800000\":0.0000003637,\"1535306400000\":0.0000003586,\"1535310000000\":0.0000003612,\"1535313600000\":0.0000003612,\"1535317200000\":0.000000356,\"1535320800000\":0.0000003545,\"1535324400000\":0.0000003548,\"1535328000000\":0.0000003659,\"1535331600000\":0.00000038,\"1535335200000\":0.0000003811,\"1535338800000\":0.0000003894,\"1535342400000\":0.0000003929,\"1535346000000\":0.0000003897,\"1535349600000\":0.0000003895,\"1535353200000\":0.0000003884,\"1535356800000\":0.0000003903,\"1535360400000\":0.0000003868,\"1535364000000\":0.0000003893,\"1535367600000\":0.0000003893,\"1535371200000\":0.0000003936,\"1535374800000\":0.0000003866,\"1535378400000\":0.00000039,\"1535382000000\":0.000000387,\"1535385600000\":0.0000003877,\"1535389200000\":0.0000003863,\"1535392800000\":0.0000003878,\"1535396400000\":0.0000003861,\"1535400000000\":0.000000392,\"1535403600000\":0.0000003928,\"1535407200000\":0.0000003921,\"1535410800000\":0.0000003876,\"1535414400000\":0.0000003908,\"1535418000000\":0.0000003927,\"1535421600000\":0.0000003881,\"1535425200000\":0.000000394,\"1535428800000\":0.0000003924,\"1535432400000\":0.0000003964,\"1535436000000\":0.0000003939,\"1535439600000\":0.0000003971,\"1535443200000\":0.0000003964,\"1535446800000\":0.000000388,\"1535450400000\":0.0000003936,\"1535454000000\":0.000000393,\"1535457600000\":0.0000003944,\"1535461200000\":0.0000003974,\"1535464800000\":0.0000003949,\"1535468400000\":0.0000003965,\"1535472000000\":0.0000003958,\"1535475600000\":0.0000003934,\"1535479200000\":0.0000003943,\"1535482800000\":0.0000003966,\"1535486400000\":0.000000398,\"1535490000000\":0.000000396,\"1535493600000\":0.000000401,\"1535497200000\":0.0000003961,\"1535500800000\":0.0000003982,\"1535504400000\":0.0000003987,\"1535508000000\":0.0000003982,\"1535511600000\":0.0000003993,\"1535515200000\":0.000000397,\"1535518800000\":0.0000003957,\"1535522400000\":0.0000003975,\"1535526000000\":0.0000003961,\"1535529600000\":0.0000003979,\"1535533200000\":0.0000003983,\"1535536800000\":0.0000004011,\"1535540400000\":0.0000004025,\"1535544000000\":0.0000004049,\"1535547600000\":0.0000004073,\"1535551200000\":0.0000004047,\"1535554800000\":0.0000004039,\"1535558400000\":0.0000004036,\"1535562000000\":0.0000004025,\"1535565600000\":0.0000004025,\"1535569200000\":0.0000003975,\"1535572800000\":0.0000003984,\"1535576400000\":0.0000003993,\"1535580000000\":0.0000003973,\"1535583600000\":0.0000003979,\"1535587200000\":0.0000003954,\"1535590800000\":0.000000398,\"1535594400000\":0.0000004002,\"1535598000000\":0.0000003996,\"1535601600000\":0.0000004023,\"1535605200000\":0.0000004034,\"1535608800000\":0.0000004018,\"1535612400000\":0.000000403,\"1535616000000\":0.0000004005,\"1535619600000\":0.0000004014,\"1535623200000\":0.0000004027,\"1535626800000\":0.0000004037,\"1535630400000\":0.0000004026,\"1535634000000\":0.0000004018,\"1535637600000\":0.0000004003,\"1535641200000\":0.0000004032,\"1535644800000\":0.000000399,\"1535648400000\":0.0000004052,\"1535652000000\":0.0000003995,\"1535655600000\":0.0000004003,\"1535659200000\":0.0000003972,\"1535662800000\":0.000000397,\"1535666400000\":0.0000004028,\"1535670000000\":0.0000004004}}'"
      ]
     },
     "execution_count": 9,
     "metadata": {},
     "output_type": "execute_result"
    }
   ],
   "source": [
    "handle(client, {'your_name':YOUR_NAME})"
   ]
  },
  {
   "cell_type": "code",
   "execution_count": 10,
   "metadata": {},
   "outputs": [
    {
     "name": "stderr",
     "output_type": "stream",
     "text": [
      "/home/keepfloyding/.env/lib64/python3.9/site-packages/cognite/client/utils/_time.py:16: FutureWarning: Interpreting given naive datetime as UTC instead of local time (against Python default behaviour). This will change in the next major release (4.0.0). Please use (timezone) aware datetimes or convert it yourself to integer (number of milliseconds since epoch, leap seconds excluded).\n",
      "  warnings.warn(\n"
     ]
    },
    {
     "data": {
      "text/plain": [
       "<AxesSubplot:>"
      ]
     },
     "execution_count": 10,
     "metadata": {},
     "output_type": "execute_result"
    },
    {
     "data": {
      "image/png": "[encoded data removed]",
      "text/plain": [
       "<Figure size 432x288 with 1 Axes>"
      ]
     },
     "metadata": {
      "needs_background": "light"
     },
     "output_type": "display_data"
    }
   ],
   "source": [
    "# Check if time series has been written back to and plot both the value and the forecast\n",
    "import datetime as datetime\n",
    "\n",
    "df=client.datapoints.retrieve(external_id = [f\"hx_thermal_resistance_{YOUR_NAME}\",f\"hx_thermal_resistance_forecast_{YOUR_NAME}\"], start=datetime.datetime(2018, 8, 1), end=datetime.datetime(2018, 10, 1)).to_pandas()\n",
    "df.plot()"
   ]
  },
  {
   "cell_type": "code",
   "execution_count": null,
   "metadata": {},
   "outputs": [],
   "source": []
  },
  {
   "cell_type": "markdown",
   "metadata": {
    "id": "UCpmlulFXhhU"
   },
   "source": [
    "## Cleanup"
   ]
  },
  {
   "cell_type": "markdown",
   "metadata": {
    "id": "Xb2J_y4WXly5"
   },
   "source": [
    "You can delete the created/deployed function using Code or UI. This will also delete the schedules along with them."
   ]
  },
  {
   "cell_type": "code",
   "execution_count": 8,
   "metadata": {
    "id": "rw7L74jQXjlC"
   },
   "outputs": [],
   "source": [
    "client.functions.delete(id=function.id)"
   ]
  },
  {
   "cell_type": "code",
   "execution_count": null,
   "metadata": {},
   "outputs": [],
   "source": []
  }
 ],
 "metadata": {
  "colab": {
   "collapsed_sections": [],
   "name": "CogniteFunctions-UseCase.ipynb",
   "provenance": []
  },
  "kernelspec": {
   "display_name": "Python 3 (ipykernel)",
   "language": "python",
   "name": "python3"
  },
  "language_info": {
   "codemirror_mode": {
    "name": "ipython",
    "version": 3
   },
   "file_extension": ".py",
   "mimetype": "text/x-python",
   "name": "python",
   "nbconvert_exporter": "python",
   "pygments_lexer": "ipython3",
   "version": "3.9.13"
  },
  "vscode": {
   "interpreter": {
    "hash": "3c69e91887e8abf517e50ee2824544e1013cced4be16b750c5a1948ad17fb1ac"
   }
  }
 },
 "nbformat": 4,
 "nbformat_minor": 1
}
