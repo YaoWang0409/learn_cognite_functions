{
 "cells": [
  {
   "cell_type": "markdown",
   "metadata": {
    "id": "u9tprOC8AHq2"
   },
   "source": [
    "# (Advanced) Forecasting the thermal resistance \n",
    "\n",
    "Along with the Physics calculations, if we need to predict the values of thermal resistance for future timesteps, based on trend or other factors, we can quickly build a model which will forecast the thermal resistance, based on recent history and it can be used to monitor the performance of the heat exchanger and using predictions, we can detect any upcoming issues or problems in the system.\n",
    "\n",
    "## Authentication\n",
    "\n",
    "Create a client to communicate with the cognite data platform (CDF)"
   ]
  },
  {
   "cell_type": "code",
   "execution_count": 1,
   "metadata": {},
   "outputs": [],
   "source": [
    "# Put down your name\n",
    "YOUR_NAME = \"Chouka-Ram\""
   ]
  },
  {
   "cell_type": "code",
   "execution_count": 2,
   "metadata": {
    "colab": {
     "base_uri": "https://localhost:8080/"
    },
    "id": "kucbrHxMANVE",
    "outputId": "0e6b1e73-def3-4916-ef30-da090674fb71"
   },
   "outputs": [
    {
     "name": "stderr",
     "output_type": "stream",
     "text": [
      "libva error: vaGetDriverNameByIndex() failed with unknown libva error, driver_name = (null)\n"
     ]
    },
    {
     "name": "stdout",
     "output_type": "stream",
     "text": [
      "Opening in existing browser session.\n"
     ]
    }
   ],
   "source": [
    "#from cognite.client import CogniteClient\n",
    "from msal import PublicClientApplication\n",
    "from cognite.experimental import CogniteClient\n",
    "\n",
    "\n",
    "# Contact Project Administrator to get these\n",
    "TENANT_ID=\"48d5043c-cf70-4c49-881c-c638f5796997\"\n",
    "CLIENT_ID=\"fab52bb5-9de2-4f9e-aefa-712da4b5fe00\"\n",
    "CDF_CLUSTER=\"westeurope-1\"\n",
    "COGNITE_PROJECT=\"ds-basics\"\n",
    "\n",
    "SCOPES = [f\"https://{CDF_CLUSTER}.cognitedata.com/.default\"]\n",
    "\n",
    "AUTHORITY_HOST_URI = \"https://login.microsoftonline.com\"\n",
    "AUTHORITY_URI = AUTHORITY_HOST_URI + \"/\" + TENANT_ID\n",
    "PORT = 53000\n",
    "\n",
    "app = PublicClientApplication(client_id=CLIENT_ID, authority=AUTHORITY_URI)\n",
    "creds = app.acquire_token_interactive(scopes=SCOPES, port=PORT)\n",
    "\n",
    "TOKEN_URL = f\"https://login.microsoftonline.com/{TENANT_ID}/oauth2/v2.0/token\"\n",
    "\n",
    "client = CogniteClient(\n",
    "    token_url=creds[\"id_token_claims\"][\"iss\"],\n",
    "    token=creds[\"access_token\"],\n",
    "    token_client_id=creds[\"id_token_claims\"][\"aud\"],\n",
    "    project=COGNITE_PROJECT,\n",
    "    base_url=f\"https://{CDF_CLUSTER}.cognitedata.com\",\n",
    "    client_name=\"cognite-client-interactive\"\n",
    "    )"
   ]
  },
  {
   "cell_type": "markdown",
   "metadata": {
    "id": "4bF1-_cw-7By"
   },
   "source": [
    "## Machine Learning to Forecast the thermal resistance"
   ]
  },
  {
   "cell_type": "markdown",
   "metadata": {
    "id": "CKtPNKB-_LRO"
   },
   "source": [
    "Along with the Physics calculations, if we need to predict the values of thermal resistance for future timesteps, based on trend or other factors, we can quickly build a model which will forecast the thermal resistance, based on recent history and it can be used to monitor the Performance of the Heat exchanger and using predictions, we can detect any upcoming issues or problems in the system."
   ]
  },
  {
   "cell_type": "markdown",
   "metadata": {
    "id": "I4CWDYthCIif"
   },
   "source": [
    "First install the library we'll use for forecasting"
   ]
  },
  {
   "cell_type": "code",
   "execution_count": 5,
   "metadata": {
    "colab": {
     "base_uri": "https://localhost:8080/"
    },
    "id": "nMKus-MdBhCo",
    "outputId": "9107a9b1-991f-4cbe-8683-a3ec1b6b8c30"
   },
   "outputs": [
    {
     "name": "stdout",
     "output_type": "stream",
     "text": [
      "\u001b[33mWARNING: You are using pip version 21.3.1; however, version 22.2.1 is available.\n",
      "You should consider upgrading via the '/usr/bin/python3 -m pip install --upgrade pip' command.\u001b[0m\n",
      "Note: you may need to restart the kernel to use updated packages.\n"
     ]
    }
   ],
   "source": [
    "%pip install -q Prophet"
   ]
  },
  {
   "cell_type": "markdown",
   "metadata": {},
   "source": [
    "Retrieve the data required for the Heat Exchanger"
   ]
  },
  {
   "cell_type": "code",
   "execution_count": 12,
   "metadata": {},
   "outputs": [
    {
     "data": {
      "text/html": [
       "<div>\n",
       "<style scoped>\n",
       "    .dataframe tbody tr th:only-of-type {\n",
       "        vertical-align: middle;\n",
       "    }\n",
       "\n",
       "    .dataframe tbody tr th {\n",
       "        vertical-align: top;\n",
       "    }\n",
       "\n",
       "    .dataframe thead th {\n",
       "        text-align: right;\n",
       "    }\n",
       "</style>\n",
       "<table border=\"1\" class=\"dataframe\">\n",
       "  <thead>\n",
       "    <tr style=\"text-align: right;\">\n",
       "      <th></th>\n",
       "      <th>T_cold_IN</th>\n",
       "      <th>T_cold_OUT</th>\n",
       "      <th>T_hot_IN</th>\n",
       "      <th>T_hot_OUT</th>\n",
       "      <th>Flow_cold</th>\n",
       "      <th>Flow_hot</th>\n",
       "    </tr>\n",
       "  </thead>\n",
       "  <tbody>\n",
       "    <tr>\n",
       "      <th>2018-08-01 00:00:00</th>\n",
       "      <td>16.784609</td>\n",
       "      <td>108.846831</td>\n",
       "      <td>126.606315</td>\n",
       "      <td>35.017099</td>\n",
       "      <td>101.142261</td>\n",
       "      <td>164362.175208</td>\n",
       "    </tr>\n",
       "    <tr>\n",
       "      <th>2018-08-01 01:00:00</th>\n",
       "      <td>16.802548</td>\n",
       "      <td>109.051995</td>\n",
       "      <td>126.506479</td>\n",
       "      <td>34.962238</td>\n",
       "      <td>99.901727</td>\n",
       "      <td>163875.622135</td>\n",
       "    </tr>\n",
       "    <tr>\n",
       "      <th>2018-08-01 02:00:00</th>\n",
       "      <td>16.796142</td>\n",
       "      <td>108.922387</td>\n",
       "      <td>126.460531</td>\n",
       "      <td>35.020834</td>\n",
       "      <td>100.574942</td>\n",
       "      <td>164397.399993</td>\n",
       "    </tr>\n",
       "    <tr>\n",
       "      <th>2018-08-01 03:00:00</th>\n",
       "      <td>16.793055</td>\n",
       "      <td>109.171361</td>\n",
       "      <td>126.621469</td>\n",
       "      <td>34.990039</td>\n",
       "      <td>99.346718</td>\n",
       "      <td>163128.807848</td>\n",
       "    </tr>\n",
       "    <tr>\n",
       "      <th>2018-08-01 04:00:00</th>\n",
       "      <td>16.800542</td>\n",
       "      <td>109.132157</td>\n",
       "      <td>126.479283</td>\n",
       "      <td>34.996638</td>\n",
       "      <td>99.440407</td>\n",
       "      <td>163634.013288</td>\n",
       "    </tr>\n",
       "  </tbody>\n",
       "</table>\n",
       "</div>"
      ],
      "text/plain": [
       "                     T_cold_IN  T_cold_OUT    T_hot_IN  T_hot_OUT   Flow_cold  \\\n",
       "2018-08-01 00:00:00  16.784609  108.846831  126.606315  35.017099  101.142261   \n",
       "2018-08-01 01:00:00  16.802548  109.051995  126.506479  34.962238   99.901727   \n",
       "2018-08-01 02:00:00  16.796142  108.922387  126.460531  35.020834  100.574942   \n",
       "2018-08-01 03:00:00  16.793055  109.171361  126.621469  34.990039   99.346718   \n",
       "2018-08-01 04:00:00  16.800542  109.132157  126.479283  34.996638   99.440407   \n",
       "\n",
       "                          Flow_hot  \n",
       "2018-08-01 00:00:00  164362.175208  \n",
       "2018-08-01 01:00:00  163875.622135  \n",
       "2018-08-01 02:00:00  164397.399993  \n",
       "2018-08-01 03:00:00  163128.807848  \n",
       "2018-08-01 04:00:00  163634.013288  "
      ]
     },
     "execution_count": 12,
     "metadata": {},
     "output_type": "execute_result"
    }
   ],
   "source": [
    "column_names = [\"T_cold_IN\",\"T_cold_OUT\",\"T_hot_IN\",\"T_hot_OUT\",\"Flow_cold\",\"Flow_hot\"]\n",
    "ts_exids = ['pi:163657','pi:163658','pi:160887','pi:191092','pi:163374','pi:160184']\n",
    "\n",
    "import datetime\n",
    "from datetime import timedelta\n",
    "start_date = datetime.datetime(2018, 8, 1)\n",
    "end_date = start_date + timedelta(days=30)\n",
    "\n",
    "df = client.datapoints.retrieve_dataframe(external_id=ts_exids,\n",
    "                                                     aggregates=['average'],\n",
    "                                                     granularity='1h',\n",
    "                                                     start=start_date,\n",
    "                                                     end=end_date,\n",
    "                                                     include_aggregate_name=False\n",
    "                                                     )\n",
    "df.fillna(method=\"ffill\", inplace=True)\n",
    "df.columns = column_names\n",
    "df.head()"
   ]
  },
  {
   "cell_type": "code",
   "execution_count": 13,
   "metadata": {},
   "outputs": [],
   "source": [
    "from tools import thermal_resistance\n",
    "\n",
    "# Calculate the thermal resistance\n",
    "df['TR'] = df.apply(lambda x:thermal_resistance(x),axis=1)"
   ]
  },
  {
   "cell_type": "markdown",
   "metadata": {
    "id": "FFoLK__HCM5X"
   },
   "source": [
    "Now, let's format the data suitable for Prophet functions"
   ]
  },
  {
   "cell_type": "code",
   "execution_count": 14,
   "metadata": {
    "colab": {
     "base_uri": "https://localhost:8080/",
     "height": 206
    },
    "id": "JnPwMhIgCBNV",
    "outputId": "89598edf-6d65-4b4d-8acd-35733961fdda"
   },
   "outputs": [
    {
     "data": {
      "text/html": [
       "<div>\n",
       "<style scoped>\n",
       "    .dataframe tbody tr th:only-of-type {\n",
       "        vertical-align: middle;\n",
       "    }\n",
       "\n",
       "    .dataframe tbody tr th {\n",
       "        vertical-align: top;\n",
       "    }\n",
       "\n",
       "    .dataframe thead th {\n",
       "        text-align: right;\n",
       "    }\n",
       "</style>\n",
       "<table border=\"1\" class=\"dataframe\">\n",
       "  <thead>\n",
       "    <tr style=\"text-align: right;\">\n",
       "      <th></th>\n",
       "      <th>ds</th>\n",
       "      <th>y</th>\n",
       "    </tr>\n",
       "  </thead>\n",
       "  <tbody>\n",
       "    <tr>\n",
       "      <th>0</th>\n",
       "      <td>2018-08-01 00:00:00</td>\n",
       "      <td>3.984586e-07</td>\n",
       "    </tr>\n",
       "    <tr>\n",
       "      <th>1</th>\n",
       "      <td>2018-08-01 01:00:00</td>\n",
       "      <td>3.956120e-07</td>\n",
       "    </tr>\n",
       "    <tr>\n",
       "      <th>2</th>\n",
       "      <td>2018-08-01 02:00:00</td>\n",
       "      <td>3.964584e-07</td>\n",
       "    </tr>\n",
       "    <tr>\n",
       "      <th>3</th>\n",
       "      <td>2018-08-01 03:00:00</td>\n",
       "      <td>3.974058e-07</td>\n",
       "    </tr>\n",
       "    <tr>\n",
       "      <th>4</th>\n",
       "      <td>2018-08-01 04:00:00</td>\n",
       "      <td>3.956495e-07</td>\n",
       "    </tr>\n",
       "  </tbody>\n",
       "</table>\n",
       "</div>"
      ],
      "text/plain": [
       "                   ds             y\n",
       "0 2018-08-01 00:00:00  3.984586e-07\n",
       "1 2018-08-01 01:00:00  3.956120e-07\n",
       "2 2018-08-01 02:00:00  3.964584e-07\n",
       "3 2018-08-01 03:00:00  3.974058e-07\n",
       "4 2018-08-01 04:00:00  3.956495e-07"
      ]
     },
     "execution_count": 14,
     "metadata": {},
     "output_type": "execute_result"
    }
   ],
   "source": [
    "df2 = df.copy()[['TR']].reset_index()\n",
    "df2 = df2.rename(columns={'index':\"ds\",'TR':\"y\"})\n",
    "\n",
    "df2.head()"
   ]
  },
  {
   "cell_type": "code",
   "execution_count": 15,
   "metadata": {
    "colab": {
     "base_uri": "https://localhost:8080/"
    },
    "id": "62mAavEbEAld",
    "outputId": "c4a38206-6eab-479c-92b7-de78067341de"
   },
   "outputs": [
    {
     "data": {
      "text/plain": [
       "(720, 7)"
      ]
     },
     "execution_count": 15,
     "metadata": {},
     "output_type": "execute_result"
    }
   ],
   "source": [
    "df.shape"
   ]
  },
  {
   "cell_type": "code",
   "execution_count": 16,
   "metadata": {
    "id": "ENkln3_YCHm_"
   },
   "outputs": [],
   "source": [
    "from prophet import Prophet"
   ]
  },
  {
   "cell_type": "code",
   "execution_count": 17,
   "metadata": {
    "colab": {
     "base_uri": "https://localhost:8080/"
    },
    "id": "_YPe6cHwCYOq",
    "outputId": "4dfb22ca-5912-47d5-c6cd-68af21275281"
   },
   "outputs": [
    {
     "name": "stderr",
     "output_type": "stream",
     "text": [
      "21:35:48 - cmdstanpy - INFO - Chain [1] start processing\n",
      "21:35:48 - cmdstanpy - INFO - Chain [1] done processing\n"
     ]
    },
    {
     "data": {
      "text/plain": [
       "<prophet.forecaster.Prophet at 0x7fb5d2779930>"
      ]
     },
     "execution_count": 17,
     "metadata": {},
     "output_type": "execute_result"
    }
   ],
   "source": [
    "m = Prophet()\n",
    "m.fit(df2)"
   ]
  },
  {
   "cell_type": "markdown",
   "metadata": {
    "id": "sTxUlEvRCwhZ"
   },
   "source": [
    "### Forecast for next 15 days"
   ]
  },
  {
   "cell_type": "markdown",
   "metadata": {
    "id": "LVZxDWTHCnNl"
   },
   "source": [
    "Let's add 10% increase from the historical mean as the threshold for monitoring"
   ]
  },
  {
   "cell_type": "code",
   "execution_count": 18,
   "metadata": {
    "colab": {
     "base_uri": "https://localhost:8080/",
     "height": 441
    },
    "id": "oS_QU2R9CYLR",
    "outputId": "4042962d-8b0a-4a40-d525-dc516b0bb039"
   },
   "outputs": [
    {
     "data": {
      "image/png": "[encoded data removed]",
      "text/plain": [
       "<Figure size 720x432 with 1 Axes>"
      ]
     },
     "metadata": {},
     "output_type": "display_data"
    }
   ],
   "source": [
    "future = m.make_future_dataframe(periods=24*15, freq='H')\n",
    "future['cap'] = 1.1*df['TR'].mean() #\n",
    "fcst = m.predict(future)\n",
    "fig = m.plot(fcst)"
   ]
  },
  {
   "cell_type": "markdown",
   "metadata": {
    "id": "_IiSnzsOEccV"
   },
   "source": [
    "It shows that as per current trend based on last few weeks, data, it will cross the threshold very soon. This information can be utilized by the maintenance department or the operations."
   ]
  },
  {
   "cell_type": "markdown",
   "metadata": {
    "id": "YssZPowtFKZK"
   },
   "source": [
    "Next, we can create the cognite function to run this model daily and save the forecasts in CDF for monitoring purposes."
   ]
  },
  {
   "cell_type": "markdown",
   "metadata": {
    "id": "FKJw_wNWFYcP"
   },
   "source": [
    "## Running ML predictions with cognite functions"
   ]
  },
  {
   "cell_type": "markdown",
   "metadata": {
    "id": "LRcHIkt3ISmj"
   },
   "source": [
    "Add the below code the the handler.py file. Additionally, we need to create a requirements.txt file to add the Prophet library as dependency to be installed."
   ]
  },
  {
   "cell_type": "code",
   "execution_count": 19,
   "metadata": {
    "id": "CszZ5-QN_Fsn"
   },
   "outputs": [],
   "source": [
    "from cognite.client.data_classes import TimeSeries\n",
    "from math import log\n",
    "import datetime\n",
    "from datetime import timedelta\n",
    "from prophet import Prophet\n",
    "\n",
    "def thermal_resistance(x):\n",
    "    '''Function to calculate Thermal Resistance'''\n",
    "    # Some constants like Correction factor, Area and Cp values\n",
    "    F = 0.8\n",
    "    A = 1.0\n",
    "    Cp_hot = 2.4\n",
    "    # Calculate the cross temperature differences\n",
    "    x['dT1'] = x['T_hot_IN'] - x['T_cold_OUT']\n",
    "    x['dT2'] = x['T_hot_OUT'] - x['T_cold_IN']\n",
    "    # Calculate the numerator and denominator for the thermal resistance calculation\n",
    "    temp1 = A*F*(x['dT1']-x['dT2'])/log(x['dT1']/x['dT2'])\n",
    "    temp2 = x['Flow_hot']*Cp_hot*(x['T_hot_IN']-x['T_hot_OUT'])\n",
    "    tr = temp1/temp2\n",
    "    return tr\n",
    "\n",
    "def thermal_resistance_forecast(df):\n",
    "    '''Function to forecast the Thermal Resistance'''\n",
    "    df2 = df.copy()[['TR']].reset_index()\n",
    "    df2 = df2.rename(columns={'index':\"ds\",'TR':\"y\"})\n",
    "    m = Prophet()\n",
    "    m.fit(df2)\n",
    "    future = m.make_future_dataframe(periods=24*15, freq='H')\n",
    "    future['cap'] = 1.1*df['TR'].mean() #\n",
    "    fcst = m.predict(future)\n",
    "    fcst_df = fcst[['ds','yhat']].set_index('ds')\n",
    "    fcst_df.columns = ['TR']\n",
    "    return fcst_df\n",
    "\n",
    "def create_and_save_time_series_data(client,data,ts_external_id):\n",
    "    '''Function to create the time series and save the data'''\n",
    "    asset_id = 7640884189698369 # 23-HA-9114 Asset\n",
    "    cdf_ts = client.time_series.retrieve(external_id=ts_external_id)\n",
    "    if cdf_ts is None:\n",
    "        ts = TimeSeries(external_id=ts_external_id,name=ts_external_id, asset_id = asset_id, unit = 'm2K/W')\n",
    "        client.time_series.create(ts)\n",
    "        print(\"Created time series\")\n",
    "    else:\n",
    "        print(\"Existing Time Series\")\n",
    "        \n",
    "    dps = []\n",
    "    for index, r in data.iterrows():\n",
    "        dps= dps+[{\"timestamp\": r.name, \"value\": r['TR']}]\n",
    "        client.datapoints.insert(datapoints = dps,external_id = ts_external_id)\n",
    "\n",
    "\n",
    "def handle(client,data=None, secrets=None, function_call_info=None):\n",
    "    \"\"\"Handler Function to be Run/Deployed\n",
    "    Args:\n",
    "        client : Cognite Client (not needed, it's availble to it, when deployed)\n",
    "        data : data needed by function\n",
    "        secrets : Any secrets it needs\n",
    "        function_call_info : any other information about function\n",
    "\n",
    "    Returns:\n",
    "        response : response or result from the function \n",
    "    \"\"\"\n",
    "    ts_exids = ['pi:163657','pi:163658','pi:160887','pi:191092','pi:163374','pi:160184']\n",
    "    column_names = [\"T_cold_IN\",\"T_cold_OUT\",\"T_hot_IN\",\"T_hot_OUT\",\"Flow_cold\",\"Flow_hot\"]\n",
    "    your_name = data['your_name']\n",
    "    # Retrieve the data\n",
    "    start_date = datetime.datetime(2018, 8, 1)\n",
    "    end_date = start_date + timedelta(days=30)\n",
    "    df = client.datapoints.retrieve_dataframe(external_id=ts_exids,\n",
    "                                                        aggregates=['average'],\n",
    "                                                        granularity='1h',\n",
    "                                                        start=start_date,\n",
    "                                                        end=end_date,\n",
    "                                                        include_aggregate_name=False\n",
    "                                                        )\n",
    "    df.fillna(method=\"ffill\", inplace=True)\n",
    "    df.columns = column_names\n",
    "    # Calculate the Thermal resistance\n",
    "    df['TR'] = df.apply(lambda x:thermal_resistance(x),axis=1)\n",
    "    # Forecast the Thermal resistance\n",
    "    fcst_df = thermal_resistance_forecast(df)\n",
    "    # Save the Results as time series\n",
    "    create_and_save_time_series_data(client,df[['TR']],f\"hx_thermal_resistance_{your_name}\")\n",
    "    create_and_save_time_series_data(client,fcst_df[['TR']],f\"hx_thermal_resistance_forecast_{your_name}\")\n",
    "    # Return the result as json\n",
    "    result = df[['TR']].to_json()\n",
    "    return result"
   ]
  },
  {
   "cell_type": "markdown",
   "metadata": {},
   "source": [
    "We can create a new folder and save the updated handler.py & requirements.txt file there. There is already a folder in solutions if you would like to use that"
   ]
  },
  {
   "cell_type": "code",
   "execution_count": 3,
   "metadata": {},
   "outputs": [
    {
     "name": "stderr",
     "output_type": "stream",
     "text": [
      "/home/keepfloyding/.local/lib/python3.10/site-packages/tqdm/auto.py:22: TqdmWarning: IProgress not found. Please update jupyter and ipywidgets. See https://ipywidgets.readthedocs.io/en/stable/user_install.html\n",
      "  from .autonotebook import tqdm as notebook_tqdm\n",
      "Importing plotly failed. Interactive plots will not work.\n"
     ]
    }
   ],
   "source": [
    "function_external_id = f\"fthermal-perf-forecast-{YOUR_NAME}\"\n",
    "\n",
    "#folder_dir = <YOUR_CUSTOM_FOLDER> # location of your code and folder directory\n",
    "folder_dir ='../solutions/hx-thermal-resistance-forecast/'\n",
    "\n",
    "\n",
    "function = client.functions.create(\n",
    "    name=\"Thermal Performance Forecasting Function\",\n",
    "    external_id=function_external_id,\n",
    "    folder=folder_dir,\n",
    "    description=\"Function to Calculate & Forecast Thermal Performance of Discharge Coolers\",\n",
    "    owner=YOUR_NAME\n",
    "    )\n",
    "# Note : if this cell is giving you errors :\n",
    "# Just restart the notebook, create the cognite client and run this cell again."
   ]
  },
  {
   "cell_type": "code",
   "execution_count": 4,
   "metadata": {},
   "outputs": [
    {
     "name": "stdout",
     "output_type": "stream",
     "text": [
      "Function is successfully deployed. Wait time: 459 seconds.\n"
     ]
    }
   ],
   "source": [
    "from function_tools import status_check\n",
    "\n",
    "status_check(function)"
   ]
  },
  {
   "cell_type": "code",
   "execution_count": 5,
   "metadata": {},
   "outputs": [
    {
     "data": {
      "text/html": [
       "<div>\n",
       "<style scoped>\n",
       "    .dataframe tbody tr th:only-of-type {\n",
       "        vertical-align: middle;\n",
       "    }\n",
       "\n",
       "    .dataframe tbody tr th {\n",
       "        vertical-align: top;\n",
       "    }\n",
       "\n",
       "    .dataframe thead th {\n",
       "        text-align: right;\n",
       "    }\n",
       "</style>\n",
       "<table border=\"1\" class=\"dataframe\">\n",
       "  <thead>\n",
       "    <tr style=\"text-align: right;\">\n",
       "      <th></th>\n",
       "      <th>value</th>\n",
       "    </tr>\n",
       "  </thead>\n",
       "  <tbody>\n",
       "    <tr>\n",
       "      <th>id</th>\n",
       "      <td>1270349217354382</td>\n",
       "    </tr>\n",
       "    <tr>\n",
       "      <th>start_time</th>\n",
       "      <td>1659612741050</td>\n",
       "    </tr>\n",
       "    <tr>\n",
       "      <th>end_time</th>\n",
       "      <td>1659612776374</td>\n",
       "    </tr>\n",
       "    <tr>\n",
       "      <th>status</th>\n",
       "      <td>Completed</td>\n",
       "    </tr>\n",
       "    <tr>\n",
       "      <th>function_id</th>\n",
       "      <td>1158349233356289</td>\n",
       "    </tr>\n",
       "  </tbody>\n",
       "</table>\n",
       "</div>"
      ],
      "text/plain": [
       "<cognite.experimental.data_classes.functions.FunctionCall at 0x7fb5d80827a0>"
      ]
     },
     "execution_count": 5,
     "metadata": {},
     "output_type": "execute_result"
    }
   ],
   "source": [
    "# Call your function\n",
    "\n",
    "call = function.call(data={'your_name':YOUR_NAME})\n",
    "call"
   ]
  },
  {
   "cell_type": "code",
   "execution_count": 9,
   "metadata": {},
   "outputs": [
    {
     "data": {
      "text/plain": [
       "<AxesSubplot:>"
      ]
     },
     "execution_count": 9,
     "metadata": {},
     "output_type": "execute_result"
    },
    {
     "data": {
      "image/png": "[encoded data removed]",
      "text/plain": [
       "<Figure size 432x288 with 1 Axes>"
      ]
     },
     "metadata": {
      "needs_background": "light"
     },
     "output_type": "display_data"
    }
   ],
   "source": [
    "# Check if time series has been written back to and plot both the value and the forecast\n",
    "import datetime as datetime\n",
    "\n",
    "df=client.datapoints.retrieve(external_id = [\"hx_thermal_resistance\",\"hx_thermal_resistance_forecast\"], start=datetime.datetime(2018, 8, 1), end=datetime.datetime(2018, 10, 1)).to_pandas()\n",
    "df.plot()"
   ]
  },
  {
   "cell_type": "markdown",
   "metadata": {
    "id": "UCpmlulFXhhU"
   },
   "source": [
    "## Cleanup"
   ]
  },
  {
   "cell_type": "markdown",
   "metadata": {
    "id": "Xb2J_y4WXly5"
   },
   "source": [
    "You can delete the created/deployed function using Code or UI. This will also delete the schedules along with them."
   ]
  },
  {
   "cell_type": "code",
   "execution_count": 8,
   "metadata": {
    "id": "rw7L74jQXjlC"
   },
   "outputs": [],
   "source": [
    "client.functions.delete(id=function.id)"
   ]
  },
  {
   "cell_type": "code",
   "execution_count": null,
   "metadata": {},
   "outputs": [],
   "source": []
  }
 ],
 "metadata": {
  "colab": {
   "collapsed_sections": [],
   "name": "CogniteFunctions-UseCase.ipynb",
   "provenance": []
  },
  "kernelspec": {
   "display_name": "Python 3 (ipykernel)",
   "language": "python",
   "name": "python3"
  },
  "language_info": {
   "codemirror_mode": {
    "name": "ipython",
    "version": 3
   },
   "file_extension": ".py",
   "mimetype": "text/x-python",
   "name": "python",
   "nbconvert_exporter": "python",
   "pygments_lexer": "ipython3",
   "version": "3.10.5"
  },
  "vscode": {
   "interpreter": {
    "hash": "3c69e91887e8abf517e50ee2824544e1013cced4be16b750c5a1948ad17fb1ac"
   }
  }
 },
 "nbformat": 4,
 "nbformat_minor": 1
}
