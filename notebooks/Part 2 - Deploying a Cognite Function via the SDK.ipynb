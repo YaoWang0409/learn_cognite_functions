{
 "cells": [
  {
   "cell_type": "markdown",
   "id": "706ec0f5",
   "metadata": {},
   "source": [
    "# Method 1: Deploying a Cognite Function via the SDK\n",
    "\n"
   ]
  },
  {
   "cell_type": "markdown",
   "id": "c50ea3db",
   "metadata": {},
   "source": [
    "## 1. Authentication and Client Creation\n",
    "\n",
    "Here we'll create the cognite client using Client credentials. We need to supply the tenant_id, client_id and client secret along with cluster name and project name to create the cognite client. Once this client is created, this will be the main way to communicate with the Cognite Data Fusion.\n",
    "\n",
    "Import and create a client to communicate with the cognite data platform (CDF)"
   ]
  },
  {
   "cell_type": "code",
   "execution_count": 2,
   "id": "4a3da86a",
   "metadata": {},
   "outputs": [
    {
     "name": "stdout",
     "output_type": "stream",
     "text": [
      "Opening in existing browser session.\n"
     ]
    },
    {
     "name": "stderr",
     "output_type": "stream",
     "text": [
      "libva error: vaGetDriverNameByIndex() failed with unknown libva error, driver_name = (null)\n"
     ]
    }
   ],
   "source": [
    "#from cognite.client import CogniteClient\n",
    "from msal import PublicClientApplication\n",
    "from cognite.experimental import CogniteClient\n",
    "\n",
    "\n",
    "YOUR_NAME = \"Jack\"\n",
    "\n",
    "# Contact Project Administrator to get these\n",
    "TENANT_ID=\"48d5043c-cf70-4c49-881c-c638f5796997\"\n",
    "CLIENT_ID=\"fab52bb5-9de2-4f9e-aefa-712da4b5fe00\"\n",
    "CDF_CLUSTER=\"westeurope-1\"\n",
    "COGNITE_PROJECT=\"ds-basics\"\n",
    "\n",
    "SCOPES = [f\"https://{CDF_CLUSTER}.cognitedata.com/.default\"]\n",
    "\n",
    "AUTHORITY_HOST_URI = \"https://login.microsoftonline.com\"\n",
    "AUTHORITY_URI = AUTHORITY_HOST_URI + \"/\" + TENANT_ID\n",
    "PORT = 53000\n",
    "\n",
    "app = PublicClientApplication(client_id=CLIENT_ID, authority=AUTHORITY_URI)\n",
    "creds = app.acquire_token_interactive(scopes=SCOPES, port=PORT)\n",
    "\n",
    "TOKEN_URL = f\"https://login.microsoftonline.com/{TENANT_ID}/oauth2/v2.0/token\"\n",
    "\n",
    "client = CogniteClient(\n",
    "    token_url=creds[\"id_token_claims\"][\"iss\"],\n",
    "    token=creds[\"access_token\"],\n",
    "    token_client_id=creds[\"id_token_claims\"][\"aud\"],\n",
    "    project=COGNITE_PROJECT,\n",
    "    base_url=f\"https://{CDF_CLUSTER}.cognitedata.com\",\n",
    "    client_name=\"cognite-client-interactive\"\n",
    "    )"
   ]
  },
  {
   "cell_type": "code",
   "execution_count": null,
   "id": "76805285",
   "metadata": {},
   "outputs": [],
   "source": []
  },
  {
   "cell_type": "markdown",
   "id": "2c248672",
   "metadata": {},
   "source": [
    "## 2. Creating the handle function\n",
    "\n",
    "As shown in the Examples https://github.com/cognitedata/cognite-function-examples/blob/main/examples/01-creating-a-function-from-a-notebook/create-cognite-function.ipynb , we need to create a function called \"handle\" and put the required calculation code/steps inside it.\n",
    "\n",
    "The `thermal_resistance` function that we defined in the previous notebook has been moved to the `tools.py` file for simplicity."
   ]
  },
  {
   "cell_type": "code",
   "execution_count": 2,
   "id": "e6e1fe5d",
   "metadata": {},
   "outputs": [],
   "source": [
    "def handle(client, data=None, secrets=None, function_call_info=None):\n",
    "    \n",
    "    from tools import thermal_resistance\n",
    "    import datetime\n",
    "    from datetime import timedelta\n",
    "    \"\"\"Handler Function to be Run/Deployed\n",
    "    Args:\n",
    "        client : Cognite Client (not needed, it's availble to it, when deployed)\n",
    "        data : data needed by function\n",
    "        secrets : Any secrets it needs\n",
    "        function_call_info : any other information about function\n",
    "\n",
    "    Returns:\n",
    "        response : response or result from the function \n",
    "    \"\"\"\n",
    "    \n",
    "    ts_exids = ['pi:163657','pi:163658','pi:160887','pi:191092','pi:163374','pi:160184']\n",
    "    column_names = [\"T_cold_IN\",\"T_cold_OUT\",\"T_hot_IN\",\"T_hot_OUT\",\"Flow_cold\",\"Flow_hot\"]\n",
    "    # Retrieve the data\n",
    "    start_date = datetime.datetime(2018, 8, 1)\n",
    "    end_date = start_date + timedelta(days=10)\n",
    "    df = client.datapoints.retrieve_dataframe(external_id=ts_exids,\n",
    "                                                        aggregates=['average'],\n",
    "                                                        granularity='6h',\n",
    "                                                        start=start_date,\n",
    "                                                        end=end_date,\n",
    "                                                        include_aggregate_name=False\n",
    "                                                        )\n",
    "    df.fillna(method=\"ffill\", inplace=True)\n",
    "    df.columns = column_names\n",
    "    # Calculate the Thermal resistance\n",
    "    df['TR'] = df.apply(lambda x:thermal_resistance(x),axis=1)\n",
    "    # Return the result as json\n",
    "    result = df[['TR']].to_json()\n",
    "    return result"
   ]
  },
  {
   "cell_type": "markdown",
   "id": "f7fbdf65",
   "metadata": {},
   "source": [
    "Before we deploy this Python-function as a Cognite Function, we can verify that it works locally by passing in our previously instantiated CogniteClient and a data-dictionary."
   ]
  },
  {
   "cell_type": "code",
   "execution_count": 3,
   "id": "c7ad4a7a",
   "metadata": {},
   "outputs": [
    {
     "data": {
      "text/plain": [
       "'{\"TR\":{\"1533081600000\":0.0000003966,\"1533103200000\":0.0000003973,\"1533124800000\":0.0000003986,\"1533146400000\":0.000000404,\"1533168000000\":0.0000004002,\"1533189600000\":0.0000003968,\"1533211200000\":0.0000003998,\"1533232800000\":0.0000003995,\"1533254400000\":0.0000003981,\"1533276000000\":0.0000004014,\"1533297600000\":0.0000004022,\"1533319200000\":0.0000003718,\"1533340800000\":0.0000003796,\"1533362400000\":0.0000003757,\"1533384000000\":0.0000003942,\"1533405600000\":0.0000004016,\"1533427200000\":0.0000003976,\"1533448800000\":0.000000398,\"1533470400000\":0.0000004012,\"1533492000000\":0.0000003983,\"1533513600000\":0.0000003908,\"1533535200000\":0.0000003976,\"1533556800000\":0.0000003976,\"1533578400000\":0.0000004013,\"1533600000000\":0.0000003962,\"1533621600000\":0.0000003976,\"1533643200000\":0.0000003979,\"1533664800000\":0.0000003988,\"1533686400000\":0.0000004085,\"1533708000000\":0.0000004102,\"1533729600000\":0.0000004098,\"1533751200000\":0.0000003997,\"1533772800000\":0.0000004035,\"1533794400000\":0.0000004058,\"1533816000000\":0.0000004066,\"1533837600000\":0.0000004029,\"1533859200000\":0.0000004031,\"1533880800000\":0.0000004071,\"1533902400000\":0.0000004024,\"1533924000000\":0.0000004041}}'"
      ]
     },
     "execution_count": 3,
     "metadata": {},
     "output_type": "execute_result"
    }
   ],
   "source": [
    "handle(client)"
   ]
  },
  {
   "cell_type": "markdown",
   "id": "94ff421a",
   "metadata": {},
   "source": [
    "## 3. Deploying the Function to CDF\n",
    "\n",
    "If the calculation is simple and basic, doesn't need any external dependencies, it can be created & deployed directly using python-sdk, by passing handle function as a parameter ( for function_handle) in functions.create command, as shown below."
   ]
  },
  {
   "cell_type": "code",
   "execution_count": 4,
   "id": "102e2994",
   "metadata": {},
   "outputs": [],
   "source": [
    "function_external_id = f\"hx_thermal_perf_{YOUR_NAME}\"\n",
    "function_name = \"Thermal Performance Calculation\""
   ]
  },
  {
   "cell_type": "code",
   "execution_count": null,
   "id": "1a5832b0",
   "metadata": {},
   "outputs": [],
   "source": []
  },
  {
   "cell_type": "code",
   "execution_count": 5,
   "id": "b859fdc0",
   "metadata": {},
   "outputs": [
    {
     "name": "stdout",
     "output_type": "stream",
     "text": [
      "You are good to go!\n"
     ]
    }
   ],
   "source": [
    "# Delete If the same function exists already\n",
    "if client.functions.retrieve(external_id=function_external_id):\n",
    "    client.functions.delete(external_id=function_external_id)\n",
    "    print('Function found and deleted')\n",
    "    \n",
    "print('You are good to go!')\n"
   ]
  },
  {
   "cell_type": "code",
   "execution_count": 6,
   "id": "efd7a317",
   "metadata": {},
   "outputs": [],
   "source": [
    "function = client.functions.create(\n",
    "    name=function_name,\n",
    "    external_id=function_external_id,\n",
    "    function_handle=handle,\n",
    "    description=\"Function to Calculate Thermal Performance of Discharge Coolers\",\n",
    "    runtime=\"py39\")"
   ]
  },
  {
   "cell_type": "markdown",
   "id": "125bc2d8",
   "metadata": {},
   "source": [
    "This might take few minutes to deploy before function is ready to run. You can check the status as follows:"
   ]
  },
  {
   "cell_type": "code",
   "execution_count": 7,
   "id": "4064531c",
   "metadata": {},
   "outputs": [
    {
     "name": "stdout",
     "output_type": "stream",
     "text": [
      "Function is successfully deployed. Wait time: 233 seconds.\n"
     ]
    }
   ],
   "source": [
    "import time\n",
    "\n",
    "def status_check(function):\n",
    "\n",
    "    start_time = time.time()\n",
    "    # Repeat until status is ready\n",
    "    while function.status != \"Ready\":\n",
    "\n",
    "        function.update()\n",
    "\n",
    "        time_elapsed = int(time.time()-start_time)\n",
    "\n",
    "        print(function.status + f'. Waiting for {time_elapsed} seconds', end='\\r')\n",
    "\n",
    "        if function.status == \"Failed\":\n",
    "            print(\"Failed to deploy function\")\n",
    "            break\n",
    "\n",
    "        time.sleep(5)\n",
    "    else:\n",
    "        print(f\"Function is successfully deployed. Wait time: {time_elapsed} seconds.\")\n",
    "        \n",
    "status_check(function)"
   ]
  },
  {
   "cell_type": "markdown",
   "id": "dd43745c",
   "metadata": {},
   "source": [
    "If the function has deployed succesfully, then we can try calling it with the SDK."
   ]
  },
  {
   "cell_type": "code",
   "execution_count": 10,
   "id": "184d7368",
   "metadata": {},
   "outputs": [
    {
     "data": {
      "text/html": [
       "<div>\n",
       "<style scoped>\n",
       "    .dataframe tbody tr th:only-of-type {\n",
       "        vertical-align: middle;\n",
       "    }\n",
       "\n",
       "    .dataframe tbody tr th {\n",
       "        vertical-align: top;\n",
       "    }\n",
       "\n",
       "    .dataframe thead th {\n",
       "        text-align: right;\n",
       "    }\n",
       "</style>\n",
       "<table border=\"1\" class=\"dataframe\">\n",
       "  <thead>\n",
       "    <tr style=\"text-align: right;\">\n",
       "      <th></th>\n",
       "      <th>value</th>\n",
       "    </tr>\n",
       "  </thead>\n",
       "  <tbody>\n",
       "    <tr>\n",
       "      <th>id</th>\n",
       "      <td>3924353550912508</td>\n",
       "    </tr>\n",
       "    <tr>\n",
       "      <th>start_time</th>\n",
       "      <td>1659542833146</td>\n",
       "    </tr>\n",
       "    <tr>\n",
       "      <th>end_time</th>\n",
       "      <td>1659542837685</td>\n",
       "    </tr>\n",
       "    <tr>\n",
       "      <th>status</th>\n",
       "      <td>Failed</td>\n",
       "    </tr>\n",
       "    <tr>\n",
       "      <th>function_id</th>\n",
       "      <td>1869427694501493</td>\n",
       "    </tr>\n",
       "  </tbody>\n",
       "</table>\n",
       "</div>"
      ],
      "text/plain": [
       "<cognite.experimental.data_classes.functions.FunctionCall at 0x7f52d86aff70>"
      ]
     },
     "execution_count": 10,
     "metadata": {},
     "output_type": "execute_result"
    }
   ],
   "source": [
    "call = function.call()\n",
    "call"
   ]
  },
  {
   "cell_type": "markdown",
   "id": "48f24a0e",
   "metadata": {},
   "source": [
    "Looks like the function has failed, let's investigate the logs to see what has happened."
   ]
  },
  {
   "cell_type": "code",
   "execution_count": 11,
   "id": "639974b7",
   "metadata": {},
   "outputs": [
    {
     "data": {
      "text/html": [
       "<div>\n",
       "<style scoped>\n",
       "    .dataframe tbody tr th:only-of-type {\n",
       "        vertical-align: middle;\n",
       "    }\n",
       "\n",
       "    .dataframe tbody tr th {\n",
       "        vertical-align: top;\n",
       "    }\n",
       "\n",
       "    .dataframe thead th {\n",
       "        text-align: right;\n",
       "    }\n",
       "</style>\n",
       "<table border=\"1\" class=\"dataframe\">\n",
       "  <thead>\n",
       "    <tr style=\"text-align: right;\">\n",
       "      <th></th>\n",
       "      <th>timestamp</th>\n",
       "      <th>message</th>\n",
       "    </tr>\n",
       "  </thead>\n",
       "  <tbody>\n",
       "    <tr>\n",
       "      <th>0</th>\n",
       "      <td>1659542837177</td>\n",
       "      <td>Traceback (most recent call last):</td>\n",
       "    </tr>\n",
       "    <tr>\n",
       "      <th>1</th>\n",
       "      <td>1659542837177</td>\n",
       "      <td>File \"/home/site/wwwroot/function/__init__.p...</td>\n",
       "    </tr>\n",
       "    <tr>\n",
       "      <th>2</th>\n",
       "      <td>1659542837177</td>\n",
       "      <td>result = handle(*function_argument_values)</td>\n",
       "    </tr>\n",
       "    <tr>\n",
       "      <th>3</th>\n",
       "      <td>1659542837177</td>\n",
       "      <td>File \"/home/site/wwwroot/function/handler.py...</td>\n",
       "    </tr>\n",
       "    <tr>\n",
       "      <th>4</th>\n",
       "      <td>1659542837177</td>\n",
       "      <td>from tools import thermal_resistance</td>\n",
       "    </tr>\n",
       "    <tr>\n",
       "      <th>5</th>\n",
       "      <td>1659542837177</td>\n",
       "      <td>ModuleNotFoundError: No module named 'tools'</td>\n",
       "    </tr>\n",
       "    <tr>\n",
       "      <th>6</th>\n",
       "      <td>1659542837177</td>\n",
       "      <td>MemoryError: The function ran out of memory.</td>\n",
       "    </tr>\n",
       "  </tbody>\n",
       "</table>\n",
       "</div>"
      ],
      "text/plain": [
       "FunctionCallLog([<cognite.experimental.data_classes.functions.FunctionCallLogEntry at 0x7f52a7385570>,\n",
       "                 <cognite.experimental.data_classes.functions.FunctionCallLogEntry at 0x7f52a73841f0>,\n",
       "                 <cognite.experimental.data_classes.functions.FunctionCallLogEntry at 0x7f52a7385990>,\n",
       "                 <cognite.experimental.data_classes.functions.FunctionCallLogEntry at 0x7f52a7386230>,\n",
       "                 <cognite.experimental.data_classes.functions.FunctionCallLogEntry at 0x7f52a7387670>,\n",
       "                 <cognite.experimental.data_classes.functions.FunctionCallLogEntry at 0x7f52a7387910>,\n",
       "                 <cognite.experimental.data_classes.functions.FunctionCallLogEntry at 0x7f52a7386b00>])"
      ]
     },
     "execution_count": 11,
     "metadata": {},
     "output_type": "execute_result"
    }
   ],
   "source": [
    "call.get_logs()"
   ]
  },
  {
   "cell_type": "markdown",
   "id": "e69ce709",
   "metadata": {},
   "source": [
    "As logs say \"ModuleNotFoundError: No module named 'tools'\", it looks like it can't find the thermal resistance function. We can fix this in the next section by making sure that our function has all the packages that it needs to run properly.\n"
   ]
  },
  {
   "cell_type": "markdown",
   "id": "a9726f84",
   "metadata": {},
   "source": [
    "## 4. Uploading a folder to Cognite Functions\n",
    "\n",
    "We have the neat option of uploading the contents of an entire folder to our Cognite Function. To this end, let's create a new folder `hx-thermal-resistance` and put all our code in there.\n",
    "\n",
    "In this folder you should have the following:\n",
    "* handler.py\n",
    "* tools.py\n",
    "* requirements.txt\n",
    "\n",
    "The 4 notebook cells below will automatically create the folder and the code files for you.\n",
    "\n",
    "* Create directory\n",
    "* Copy tools.py over to the folder\n",
    "* Create handler.py in the folder\n",
    "* Create requirements.txt in the folder"
   ]
  },
  {
   "cell_type": "code",
   "execution_count": 12,
   "id": "a95efefe",
   "metadata": {},
   "outputs": [],
   "source": [
    "%%sh\n",
    "\n",
    "mkdir ../hx-thermal-resistance\n"
   ]
  },
  {
   "cell_type": "code",
   "execution_count": 13,
   "id": "df1ce4a8",
   "metadata": {},
   "outputs": [],
   "source": [
    "%%sh\n",
    "\n",
    "cp tools.py ../hx-thermal-resistance/"
   ]
  },
  {
   "cell_type": "code",
   "execution_count": 14,
   "id": "4d4f339e",
   "metadata": {},
   "outputs": [],
   "source": [
    "%%sh\n",
    "\n",
    "echo \"\"\"\n",
    "import datetime\n",
    "from datetime import timedelta\n",
    "from tools import thermal_resistance\n",
    "def handle(client, data=None, secrets=None, function_call_info=None):\n",
    "    '''Handler Function to be Run/Deployed\n",
    "    Args:\n",
    "        client : Cognite Client (not needed, it's availble to it, when deployed)\n",
    "        data : data needed by function\n",
    "        secrets : Any secrets it needs\n",
    "        function_call_info : any other information about function\n",
    "\n",
    "    Returns:\n",
    "        response : response or result from the function \n",
    "    '''\n",
    "    \n",
    "    ts_exids = ['pi:163657','pi:163658','pi:160887','pi:191092','pi:163374','pi:160184']\n",
    "    column_names = ['T_cold_IN','T_cold_OUT','T_hot_IN','T_hot_OUT','Flow_cold','Flow_hot']\n",
    "    # Retrieve the data\n",
    "    start_date = datetime.datetime(2018, 8, 1)\n",
    "    end_date = start_date + timedelta(days=10)\n",
    "    df = client.datapoints.retrieve_dataframe(external_id=ts_exids,\n",
    "                                                        aggregates=['average'],\n",
    "                                                        granularity='6h',\n",
    "                                                        start=start_date,\n",
    "                                                        end=end_date,\n",
    "                                                        include_aggregate_name=False\n",
    "                                                        )\n",
    "    df.fillna(method='ffill', inplace=True)\n",
    "    df.columns = column_names\n",
    "    # Calculate the Thermal resistance\n",
    "    df['TR'] = df.apply(lambda x:thermal_resistance(x),axis=1)\n",
    "    # Return the result as json\n",
    "    result = df[['TR']].to_json()\n",
    "    return result\n",
    "\"\"\" > ../hx-thermal-resistance/handler.py"
   ]
  },
  {
   "cell_type": "code",
   "execution_count": 15,
   "id": "71425249",
   "metadata": {},
   "outputs": [],
   "source": [
    "%%sh\n",
    "\n",
    "echo \"\"\"pandas >=1.4.3\"\"\" > ../hx-thermal-resistance/requirements.txt"
   ]
  },
  {
   "cell_type": "code",
   "execution_count": 16,
   "id": "72e06b3f",
   "metadata": {},
   "outputs": [],
   "source": [
    "# Delete the function we deployed to avoid duplication errors\n",
    "client.functions.delete(external_id=function_external_id)"
   ]
  },
  {
   "cell_type": "code",
   "execution_count": 17,
   "id": "957f026b",
   "metadata": {},
   "outputs": [],
   "source": [
    "function = client.functions.create(\n",
    "    name=function_name,\n",
    "    external_id=function_external_id,\n",
    "    folder=\"../hx-thermal-resistance/\",  # We will upload this directory\n",
    "    description=\"Function to Calculate Thermal Performance of Discharge Coolers\",\n",
    "    owner=\"Jack Reacher\",\n",
    ")"
   ]
  },
  {
   "cell_type": "code",
   "execution_count": 18,
   "id": "62abfc46",
   "metadata": {},
   "outputs": [
    {
     "name": "stdout",
     "output_type": "stream",
     "text": [
      "Function is successfully deployed. Wait time: 279 seconds.\n"
     ]
    }
   ],
   "source": [
    "# Check the status if it has been deployed\n",
    "status_check(function)"
   ]
  },
  {
   "cell_type": "code",
   "execution_count": 19,
   "id": "cc27a9b4",
   "metadata": {},
   "outputs": [
    {
     "data": {
      "text/html": [
       "<div>\n",
       "<style scoped>\n",
       "    .dataframe tbody tr th:only-of-type {\n",
       "        vertical-align: middle;\n",
       "    }\n",
       "\n",
       "    .dataframe tbody tr th {\n",
       "        vertical-align: top;\n",
       "    }\n",
       "\n",
       "    .dataframe thead th {\n",
       "        text-align: right;\n",
       "    }\n",
       "</style>\n",
       "<table border=\"1\" class=\"dataframe\">\n",
       "  <thead>\n",
       "    <tr style=\"text-align: right;\">\n",
       "      <th></th>\n",
       "      <th>value</th>\n",
       "    </tr>\n",
       "  </thead>\n",
       "  <tbody>\n",
       "    <tr>\n",
       "      <th>id</th>\n",
       "      <td>2659944705674703</td>\n",
       "    </tr>\n",
       "    <tr>\n",
       "      <th>start_time</th>\n",
       "      <td>1659543151585</td>\n",
       "    </tr>\n",
       "    <tr>\n",
       "      <th>end_time</th>\n",
       "      <td>1659543163396</td>\n",
       "    </tr>\n",
       "    <tr>\n",
       "      <th>status</th>\n",
       "      <td>Completed</td>\n",
       "    </tr>\n",
       "    <tr>\n",
       "      <th>function_id</th>\n",
       "      <td>6363084569903198</td>\n",
       "    </tr>\n",
       "  </tbody>\n",
       "</table>\n",
       "</div>"
      ],
      "text/plain": [
       "<cognite.experimental.data_classes.functions.FunctionCall at 0x7f52d86acd60>"
      ]
     },
     "execution_count": 19,
     "metadata": {},
     "output_type": "execute_result"
    }
   ],
   "source": [
    "# Check if the function call has been successful\n",
    "call = function.call()\n",
    "call"
   ]
  },
  {
   "cell_type": "code",
   "execution_count": 20,
   "id": "ad19e278",
   "metadata": {},
   "outputs": [
    {
     "data": {
      "text/plain": [
       "'{\"TR\":{\"1533081600000\":0.0000003966,\"1533103200000\":0.0000003973,\"1533124800000\":0.0000003986,\"1533146400000\":0.000000404,\"1533168000000\":0.0000004002,\"1533189600000\":0.0000003968,\"1533211200000\":0.0000003998,\"1533232800000\":0.0000003995,\"1533254400000\":0.0000003981,\"1533276000000\":0.0000004014,\"1533297600000\":0.0000004022,\"1533319200000\":0.0000003718,\"1533340800000\":0.0000003796,\"1533362400000\":0.0000003757,\"1533384000000\":0.0000003942,\"1533405600000\":0.0000004016,\"1533427200000\":0.0000003976,\"1533448800000\":0.000000398,\"1533470400000\":0.0000004012,\"1533492000000\":0.0000003983,\"1533513600000\":0.0000003908,\"1533535200000\":0.0000003976,\"1533556800000\":0.0000003976,\"1533578400000\":0.0000004013,\"1533600000000\":0.0000003962,\"1533621600000\":0.0000003976,\"1533643200000\":0.0000003979,\"1533664800000\":0.0000003988,\"1533686400000\":0.0000004085,\"1533708000000\":0.0000004102,\"1533729600000\":0.0000004098,\"1533751200000\":0.0000003997,\"1533772800000\":0.0000004035,\"1533794400000\":0.0000004058,\"1533816000000\":0.0000004066,\"1533837600000\":0.0000004029,\"1533859200000\":0.0000004031,\"1533880800000\":0.0000004071,\"1533902400000\":0.0000004024,\"1533924000000\":0.0000004041}}'"
      ]
     },
     "execution_count": 20,
     "metadata": {},
     "output_type": "execute_result"
    }
   ],
   "source": [
    "# Get response\n",
    "call.get_response()"
   ]
  },
  {
   "cell_type": "markdown",
   "id": "4862ac12",
   "metadata": {},
   "source": [
    "## 5. Running a Cognite Function on a schedule\n",
    "\n",
    "When creating function in CDF UI, we can also create the schedule,\n",
    "- for hourly schedule, enter this cron expression `0 * * * *`\n",
    "- for daily `0 0 * * *` \n",
    "- for every minute `* * * * *` "
   ]
  },
  {
   "cell_type": "code",
   "execution_count": 7,
   "id": "87e615af",
   "metadata": {},
   "outputs": [],
   "source": [
    "function = client.functions.retrieve(1253610691220398)"
   ]
  },
  {
   "cell_type": "code",
   "execution_count": 8,
   "id": "d81af051",
   "metadata": {},
   "outputs": [
    {
     "ename": "CogniteAPIError",
     "evalue": "A session nonce must be provided when creating a function schedule. | code: 400 | X-Request-ID: 9a316d5b-04c6-93c0-a26f-4a70e53ead61",
     "output_type": "error",
     "traceback": [
      "\u001b[0;31m---------------------------------------------------------------------------\u001b[0m",
      "\u001b[0;31mCogniteAPIError\u001b[0m                           Traceback (most recent call last)",
      "Input \u001b[0;32mIn [8]\u001b[0m, in \u001b[0;36m<cell line: 1>\u001b[0;34m()\u001b[0m\n\u001b[0;32m----> 1\u001b[0m schedule \u001b[38;5;241m=\u001b[39m client\u001b[38;5;241m.\u001b[39mfunctions\u001b[38;5;241m.\u001b[39mschedules\u001b[38;5;241m.\u001b[39mcreate(\n\u001b[1;32m      2\u001b[0m     name\u001b[38;5;241m=\u001b[39m\u001b[38;5;124m\"\u001b[39m\u001b[38;5;124mrun-function-every-day\u001b[39m\u001b[38;5;124m\"\u001b[39m,\n\u001b[1;32m      3\u001b[0m     cron_expression\u001b[38;5;241m=\u001b[39m\u001b[38;5;124m\"\u001b[39m\u001b[38;5;124m0 0 * * *\u001b[39m\u001b[38;5;124m\"\u001b[39m,  \u001b[38;5;66;03m# the cron expression runs every day\u001b[39;00m\n\u001b[1;32m      4\u001b[0m     function_id\u001b[38;5;241m=\u001b[39mfunction\u001b[38;5;241m.\u001b[39mid,  \u001b[38;5;66;03m# we specify the ID of the function we want to schedule\u001b[39;00m\n\u001b[1;32m      5\u001b[0m     data\u001b[38;5;241m=\u001b[39m{},  \u001b[38;5;66;03m# this is the data we wish to call the function with (e.g. time range for calculation)\u001b[39;00m\n\u001b[1;32m      6\u001b[0m     description\u001b[38;5;241m=\u001b[39m\u001b[38;5;124m\"\u001b[39m\u001b[38;5;124mThis schedule runs the function every minute\u001b[39m\u001b[38;5;124m\"\u001b[39m\n\u001b[1;32m      7\u001b[0m     \n\u001b[1;32m      8\u001b[0m )\n",
      "File \u001b[0;32m~/.local/lib/python3.10/site-packages/cognite/experimental/_api/functions.py:1025\u001b[0m, in \u001b[0;36mFunctionSchedulesAPI.create\u001b[0;34m(self, name, cron_expression, function_id, function_external_id, client_credentials, description, data)\u001b[0m\n\u001b[1;32m   1022\u001b[0m     body[\u001b[38;5;124m\"\u001b[39m\u001b[38;5;124mitems\u001b[39m\u001b[38;5;124m\"\u001b[39m][\u001b[38;5;241m0\u001b[39m][\u001b[38;5;124m\"\u001b[39m\u001b[38;5;124mdata\u001b[39m\u001b[38;5;124m\"\u001b[39m] \u001b[38;5;241m=\u001b[39m data\n\u001b[1;32m   1024\u001b[0m url \u001b[38;5;241m=\u001b[39m \u001b[38;5;124m\"\u001b[39m\u001b[38;5;124m/functions/schedules\u001b[39m\u001b[38;5;124m\"\u001b[39m\n\u001b[0;32m-> 1025\u001b[0m res \u001b[38;5;241m=\u001b[39m \u001b[38;5;28;43mself\u001b[39;49m\u001b[38;5;241;43m.\u001b[39;49m\u001b[43m_post\u001b[49m\u001b[43m(\u001b[49m\u001b[43murl\u001b[49m\u001b[43m,\u001b[49m\u001b[43m \u001b[49m\u001b[43mjson\u001b[49m\u001b[38;5;241;43m=\u001b[39;49m\u001b[43mbody\u001b[49m\u001b[43m)\u001b[49m\n\u001b[1;32m   1026\u001b[0m \u001b[38;5;28;01mreturn\u001b[39;00m FunctionSchedule\u001b[38;5;241m.\u001b[39m_load(res\u001b[38;5;241m.\u001b[39mjson()[\u001b[38;5;124m\"\u001b[39m\u001b[38;5;124mitems\u001b[39m\u001b[38;5;124m\"\u001b[39m][\u001b[38;5;241m0\u001b[39m])\n",
      "File \u001b[0;32m~/.local/lib/python3.10/site-packages/cognite/client/_api_client.py:122\u001b[0m, in \u001b[0;36mAPIClient._post\u001b[0;34m(self, url_path, json, params, headers)\u001b[0m\n\u001b[1;32m    115\u001b[0m \u001b[38;5;28;01mdef\u001b[39;00m \u001b[38;5;21m_post\u001b[39m(\n\u001b[1;32m    116\u001b[0m     \u001b[38;5;28mself\u001b[39m,\n\u001b[1;32m    117\u001b[0m     url_path: \u001b[38;5;28mstr\u001b[39m,\n\u001b[0;32m   (...)\u001b[0m\n\u001b[1;32m    120\u001b[0m     headers: Optional[Dict[\u001b[38;5;28mstr\u001b[39m, Any]] \u001b[38;5;241m=\u001b[39m \u001b[38;5;28;01mNone\u001b[39;00m,\n\u001b[1;32m    121\u001b[0m ) \u001b[38;5;241m-\u001b[39m\u001b[38;5;241m>\u001b[39m requests\u001b[38;5;241m.\u001b[39mResponse:\n\u001b[0;32m--> 122\u001b[0m     \u001b[38;5;28;01mreturn\u001b[39;00m \u001b[38;5;28;43mself\u001b[39;49m\u001b[38;5;241;43m.\u001b[39;49m\u001b[43m_do_request\u001b[49m\u001b[43m(\u001b[49m\n\u001b[1;32m    123\u001b[0m \u001b[43m        \u001b[49m\u001b[38;5;124;43m\"\u001b[39;49m\u001b[38;5;124;43mPOST\u001b[39;49m\u001b[38;5;124;43m\"\u001b[39;49m\u001b[43m,\u001b[49m\u001b[43m \u001b[49m\u001b[43murl_path\u001b[49m\u001b[43m,\u001b[49m\u001b[43m \u001b[49m\u001b[43mjson\u001b[49m\u001b[38;5;241;43m=\u001b[39;49m\u001b[43mjson\u001b[49m\u001b[43m,\u001b[49m\u001b[43m \u001b[49m\u001b[43mheaders\u001b[49m\u001b[38;5;241;43m=\u001b[39;49m\u001b[43mheaders\u001b[49m\u001b[43m,\u001b[49m\u001b[43m \u001b[49m\u001b[43mparams\u001b[49m\u001b[38;5;241;43m=\u001b[39;49m\u001b[43mparams\u001b[49m\u001b[43m,\u001b[49m\u001b[43m \u001b[49m\u001b[43mtimeout\u001b[49m\u001b[38;5;241;43m=\u001b[39;49m\u001b[38;5;28;43mself\u001b[39;49m\u001b[38;5;241;43m.\u001b[39;49m\u001b[43m_config\u001b[49m\u001b[38;5;241;43m.\u001b[39;49m\u001b[43mtimeout\u001b[49m\n\u001b[1;32m    124\u001b[0m \u001b[43m    \u001b[49m\u001b[43m)\u001b[49m\n",
      "File \u001b[0;32m~/.local/lib/python3.10/site-packages/cognite/client/_api_client.py:169\u001b[0m, in \u001b[0;36mAPIClient._do_request\u001b[0;34m(self, method, url_path, **kwargs)\u001b[0m\n\u001b[1;32m    166\u001b[0m     res \u001b[38;5;241m=\u001b[39m \u001b[38;5;28mself\u001b[39m\u001b[38;5;241m.\u001b[39m_http_client\u001b[38;5;241m.\u001b[39mrequest(method\u001b[38;5;241m=\u001b[39mmethod, url\u001b[38;5;241m=\u001b[39mfull_url, \u001b[38;5;241m*\u001b[39m\u001b[38;5;241m*\u001b[39mkwargs)\n\u001b[1;32m    168\u001b[0m \u001b[38;5;28;01mif\u001b[39;00m \u001b[38;5;129;01mnot\u001b[39;00m \u001b[38;5;28mself\u001b[39m\u001b[38;5;241m.\u001b[39m_status_ok(res\u001b[38;5;241m.\u001b[39mstatus_code):\n\u001b[0;32m--> 169\u001b[0m     \u001b[38;5;28;43mself\u001b[39;49m\u001b[38;5;241;43m.\u001b[39;49m\u001b[43m_raise_API_error\u001b[49m\u001b[43m(\u001b[49m\u001b[43mres\u001b[49m\u001b[43m,\u001b[49m\u001b[43m \u001b[49m\u001b[43mpayload\u001b[49m\u001b[38;5;241;43m=\u001b[39;49m\u001b[43mjson_payload\u001b[49m\u001b[43m)\u001b[49m\n\u001b[1;32m    170\u001b[0m stream \u001b[38;5;241m=\u001b[39m kwargs\u001b[38;5;241m.\u001b[39mget(\u001b[38;5;124m\"\u001b[39m\u001b[38;5;124mstream\u001b[39m\u001b[38;5;124m\"\u001b[39m)\n\u001b[1;32m    171\u001b[0m \u001b[38;5;28mself\u001b[39m\u001b[38;5;241m.\u001b[39m_log_request(res, payload\u001b[38;5;241m=\u001b[39mjson_payload, stream\u001b[38;5;241m=\u001b[39mstream)\n",
      "File \u001b[0;32m~/.local/lib/python3.10/site-packages/cognite/client/_api_client.py:778\u001b[0m, in \u001b[0;36mAPIClient._raise_API_error\u001b[0;34m(cls, res, payload)\u001b[0m\n\u001b[1;32m    772\u001b[0m         log\u001b[38;5;241m.\u001b[39mdebug(\n\u001b[1;32m    773\u001b[0m             \u001b[38;5;124m\"\u001b[39m\u001b[38;5;124mREDIRECT AFTER HTTP Error \u001b[39m\u001b[38;5;132;01m{}\u001b[39;00m\u001b[38;5;124m \u001b[39m\u001b[38;5;132;01m{}\u001b[39;00m\u001b[38;5;124m \u001b[39m\u001b[38;5;132;01m{}\u001b[39;00m\u001b[38;5;124m: \u001b[39m\u001b[38;5;132;01m{}\u001b[39;00m\u001b[38;5;124m\"\u001b[39m\u001b[38;5;241m.\u001b[39mformat(\n\u001b[1;32m    774\u001b[0m                 res_hist\u001b[38;5;241m.\u001b[39mstatus_code, res_hist\u001b[38;5;241m.\u001b[39mrequest\u001b[38;5;241m.\u001b[39mmethod, res_hist\u001b[38;5;241m.\u001b[39mrequest\u001b[38;5;241m.\u001b[39murl, res_hist\u001b[38;5;241m.\u001b[39mcontent\n\u001b[1;32m    775\u001b[0m             )\n\u001b[1;32m    776\u001b[0m         )\n\u001b[1;32m    777\u001b[0m log\u001b[38;5;241m.\u001b[39mdebug(\u001b[38;5;124m\"\u001b[39m\u001b[38;5;124mHTTP Error \u001b[39m\u001b[38;5;132;01m{}\u001b[39;00m\u001b[38;5;124m \u001b[39m\u001b[38;5;132;01m{}\u001b[39;00m\u001b[38;5;124m \u001b[39m\u001b[38;5;132;01m{}\u001b[39;00m\u001b[38;5;124m: \u001b[39m\u001b[38;5;132;01m{}\u001b[39;00m\u001b[38;5;124m\"\u001b[39m\u001b[38;5;241m.\u001b[39mformat(code, res\u001b[38;5;241m.\u001b[39mrequest\u001b[38;5;241m.\u001b[39mmethod, res\u001b[38;5;241m.\u001b[39mrequest\u001b[38;5;241m.\u001b[39murl, msg), extra\u001b[38;5;241m=\u001b[39merror_details)\n\u001b[0;32m--> 778\u001b[0m \u001b[38;5;28;01mraise\u001b[39;00m CogniteAPIError(msg, code, x_request_id, missing\u001b[38;5;241m=\u001b[39mmissing, duplicated\u001b[38;5;241m=\u001b[39mduplicated, extra\u001b[38;5;241m=\u001b[39mextra)\n",
      "\u001b[0;31mCogniteAPIError\u001b[0m: A session nonce must be provided when creating a function schedule. | code: 400 | X-Request-ID: 9a316d5b-04c6-93c0-a26f-4a70e53ead61"
     ]
    }
   ],
   "source": [
    "schedule = client.functions.schedules.create(\n",
    "    name=\"run-function-every-day\",\n",
    "    cron_expression=\"0 0 * * *\",  # the cron expression runs every day\n",
    "    function_id=function.id,  # we specify the ID of the function we want to schedule\n",
    "    data={},  # this is the data we wish to call the function with (e.g. time range for calculation)\n",
    "    description=\"This schedule runs the function every minute\"\n",
    "    \n",
    ")"
   ]
  },
  {
   "cell_type": "code",
   "execution_count": 6,
   "id": "cde88619",
   "metadata": {},
   "outputs": [
    {
     "data": {
      "text/html": [
       "<div>\n",
       "<style scoped>\n",
       "    .dataframe tbody tr th:only-of-type {\n",
       "        vertical-align: middle;\n",
       "    }\n",
       "\n",
       "    .dataframe tbody tr th {\n",
       "        vertical-align: top;\n",
       "    }\n",
       "\n",
       "    .dataframe thead th {\n",
       "        text-align: right;\n",
       "    }\n",
       "</style>\n",
       "<table border=\"1\" class=\"dataframe\">\n",
       "  <thead>\n",
       "    <tr style=\"text-align: right;\">\n",
       "      <th></th>\n",
       "      <th>id</th>\n",
       "      <th>name</th>\n",
       "      <th>owner</th>\n",
       "      <th>status</th>\n",
       "      <th>file_id</th>\n",
       "      <th>function_path</th>\n",
       "      <th>created_time</th>\n",
       "      <th>cpu</th>\n",
       "      <th>memory</th>\n",
       "      <th>runtime</th>\n",
       "      <th>metadata</th>\n",
       "      <th>external_id</th>\n",
       "      <th>description</th>\n",
       "    </tr>\n",
       "  </thead>\n",
       "  <tbody>\n",
       "    <tr>\n",
       "      <th>0</th>\n",
       "      <td>1253610691220398</td>\n",
       "      <td>Test Function</td>\n",
       "      <td>Andris Piebalgs</td>\n",
       "      <td>Ready</td>\n",
       "      <td>2869365677300270</td>\n",
       "      <td>handler.py</td>\n",
       "      <td>1659543213430</td>\n",
       "      <td>0.25</td>\n",
       "      <td>1.0</td>\n",
       "      <td>py38</td>\n",
       "      <td>{}</td>\n",
       "      <td>NaN</td>\n",
       "      <td>NaN</td>\n",
       "    </tr>\n",
       "    <tr>\n",
       "      <th>1</th>\n",
       "      <td>6269662495170826</td>\n",
       "      <td>Thermal Performance Function with UI</td>\n",
       "      <td>NaN</td>\n",
       "      <td>Ready</td>\n",
       "      <td>410249806612463</td>\n",
       "      <td>handler.py</td>\n",
       "      <td>1658837552859</td>\n",
       "      <td>0.25</td>\n",
       "      <td>1.0</td>\n",
       "      <td>py38</td>\n",
       "      <td>{}</td>\n",
       "      <td>NaN</td>\n",
       "      <td>NaN</td>\n",
       "    </tr>\n",
       "    <tr>\n",
       "      <th>2</th>\n",
       "      <td>6329621345240516</td>\n",
       "      <td>Thermal Performance Forecasting Function</td>\n",
       "      <td>Choukha Ram</td>\n",
       "      <td>Ready</td>\n",
       "      <td>4260666617221294</td>\n",
       "      <td>handler.py</td>\n",
       "      <td>1658842545691</td>\n",
       "      <td>1.00</td>\n",
       "      <td>1.5</td>\n",
       "      <td>py38</td>\n",
       "      <td>{}</td>\n",
       "      <td>thermal-perf-forecast</td>\n",
       "      <td>Function to Calculate &amp; Forecast Thermal Perfo...</td>\n",
       "    </tr>\n",
       "    <tr>\n",
       "      <th>3</th>\n",
       "      <td>6363084569903198</td>\n",
       "      <td>Thermal Performance Calculation</td>\n",
       "      <td>Jack Reacher</td>\n",
       "      <td>Ready</td>\n",
       "      <td>1245301260806451</td>\n",
       "      <td>handler.py</td>\n",
       "      <td>1659542856482</td>\n",
       "      <td>1.00</td>\n",
       "      <td>1.5</td>\n",
       "      <td>py38</td>\n",
       "      <td>{}</td>\n",
       "      <td>hx_thermal_perf_Jack</td>\n",
       "      <td>Function to Calculate Thermal Performance of D...</td>\n",
       "    </tr>\n",
       "    <tr>\n",
       "      <th>4</th>\n",
       "      <td>6999183115437061</td>\n",
       "      <td>Thermal Performance Calculation and Save Function</td>\n",
       "      <td>Choukha Ram</td>\n",
       "      <td>Ready</td>\n",
       "      <td>2705633949196009</td>\n",
       "      <td>handler.py</td>\n",
       "      <td>1658839942369</td>\n",
       "      <td>1.00</td>\n",
       "      <td>1.5</td>\n",
       "      <td>py38</td>\n",
       "      <td>{}</td>\n",
       "      <td>thermal-perf-save-calc</td>\n",
       "      <td>Function to Calculate &amp; Save Thermal Performan...</td>\n",
       "    </tr>\n",
       "    <tr>\n",
       "      <th>5</th>\n",
       "      <td>7693341838777347</td>\n",
       "      <td>Thermal Performance Calculation and Save Function</td>\n",
       "      <td>Choukha Ram</td>\n",
       "      <td>Ready</td>\n",
       "      <td>3473668269847550</td>\n",
       "      <td>handler.py</td>\n",
       "      <td>1659545818538</td>\n",
       "      <td>1.00</td>\n",
       "      <td>1.5</td>\n",
       "      <td>py38</td>\n",
       "      <td>{}</td>\n",
       "      <td>thermal-perf-save-calc-Chouka-Ram</td>\n",
       "      <td>Function to Calculate &amp; Save Thermal Performan...</td>\n",
       "    </tr>\n",
       "  </tbody>\n",
       "</table>\n",
       "</div>"
      ],
      "text/plain": [
       "FunctionList([<cognite.experimental.data_classes.functions.Function at 0x7f82ae1215a0>,\n",
       "              <cognite.experimental.data_classes.functions.Function at 0x7f82ae121990>,\n",
       "              <cognite.experimental.data_classes.functions.Function at 0x7f82ae122050>,\n",
       "              <cognite.experimental.data_classes.functions.Function at 0x7f82ae121fc0>,\n",
       "              <cognite.experimental.data_classes.functions.Function at 0x7f82ae122320>,\n",
       "              <cognite.experimental.data_classes.functions.Function at 0x7f82ae122290>])"
      ]
     },
     "execution_count": 6,
     "metadata": {},
     "output_type": "execute_result"
    }
   ],
   "source": [
    "client.functions.list()"
   ]
  },
  {
   "cell_type": "markdown",
   "id": "8fd7a3c8",
   "metadata": {},
   "source": [
    "Deleting "
   ]
  }
 ],
 "metadata": {
  "kernelspec": {
   "display_name": "Python 3 (ipykernel)",
   "language": "python",
   "name": "python3"
  },
  "language_info": {
   "codemirror_mode": {
    "name": "ipython",
    "version": 3
   },
   "file_extension": ".py",
   "mimetype": "text/x-python",
   "name": "python",
   "nbconvert_exporter": "python",
   "pygments_lexer": "ipython3",
   "version": "3.10.5"
  }
 },
 "nbformat": 4,
 "nbformat_minor": 5
}
